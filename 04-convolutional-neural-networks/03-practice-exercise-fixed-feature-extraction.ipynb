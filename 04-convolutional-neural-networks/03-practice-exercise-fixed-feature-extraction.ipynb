{
 "cells": [
  {
   "cell_type": "code",
   "execution_count": 10,
   "metadata": {},
   "outputs": [],
   "source": [
    "# this should look familiar from the previous labs. \n",
    "# We could choose any of the pre-built nets here instead. \n",
    "from tensorflow.keras.applications.mobilenet_v2 import MobileNetV2, preprocess_input, decode_predictions\n",
    "from tensorflow.keras.layers import Dense, GlobalAveragePooling2D, Dropout\n",
    "from tensorflow.keras.models import Model, Sequential\n",
    "from tensorflow.keras.preprocessing.image import ImageDataGenerator\n",
    "from tensorflow.keras.utils import to_categorical\n",
    "from tensorflow.keras.optimizers import SGD, Nadam\n",
    "import matplotlib.pyplot as plt\n",
    "import numpy as np\n",
    "from scipy import ndimage\n",
    "\n",
    "# This is a new built in dataset that we haven't seen before.\n",
    "# It is 60,000 (50k training, 10k test) small (32x32) RGB images \n",
    "# classified into 100 classes:\n",
    "from tensorflow.keras.datasets import cifar100\n",
    "(x_train, y_train), (x_test, y_test) = cifar100.load_data(label_mode='fine')\n",
    "\n",
    "# Constant number of labels, square image shape\n",
    "NUM_CLASSES = 100\n",
    "IMAGE_SIZE = 96\n",
    "\n",
    "# FOR DISPLAY PURPOSES\n",
    "unprocessed_training_images = x_train\n",
    "unprocessed_training_labels = y_train\n",
    "\n",
    "# Because the network we're fine-tuning (MobileNetV2) has several pooling layers\n",
    "# the smallest image it can process is 96x96, these images are 32x32. To fix this\n",
    "# we are manually rescaling all the images using scipy. We are also applying the \n",
    "# MobileNetV2 preprocess_input function here. \n",
    "def adjust_input_image(rgb_data):\n",
    "    adjusted = preprocess_input(rgb_data)\n",
    "    \n",
    "    # Scales width and height by 3, leaves color channels at original scale\n",
    "    adjusted = ndimage.zoom(adjusted, (3, 3, 1), order=0)\n",
    "\n",
    "    return adjusted\n",
    "\n",
    "x_train = np.array([adjust_input_image(x) for x in x_train])\n",
    "x_test = np.array([adjust_input_image(x) for x in x_test])\n",
    "\n",
    "# And we still need to one-hot encode the labels as usual\n",
    "y_train = to_categorical(y_train, NUM_CLASSES)\n",
    "y_test = to_categorical(y_test, NUM_CLASSES)"
   ]
  },
  {
   "cell_type": "code",
   "execution_count": 2,
   "metadata": {},
   "outputs": [],
   "source": [
    "# This should look familiar from previous labs.\n",
    "def plot_training_history(history, model):\n",
    "    figure = plt.figure()\n",
    "\n",
    "    plt.subplot(1, 2, 1)\n",
    "    plt.plot(history.history['accuracy'])\n",
    "    plt.plot(history.history['val_accuracy'])\n",
    "    plt.title('model accuracy')\n",
    "    plt.ylabel('accuracy')\n",
    "    plt.xlabel('epoch')\n",
    "    plt.tight_layout()\n",
    "\n",
    "    plt.subplot(1, 2, 2)\n",
    "    plt.plot(history.history['loss'])\n",
    "    plt.plot(history.history['val_loss'])\n",
    "    plt.title('model loss')\n",
    "    plt.ylabel('loss')\n",
    "    plt.xlabel('epoch')\n",
    "    plt.tight_layout()\n",
    "\n",
    "    figure.tight_layout()\n",
    "    plt.show()"
   ]
  },
  {
   "cell_type": "code",
   "execution_count": 3,
   "metadata": {},
   "outputs": [],
   "source": [
    "# The first way we'll do transfer learning REALLY saves time, but\n",
    "# only works if you don't want to fine tune any of the layers \n",
    "# from the original network. What we can do instead is memorize\n",
    "# the output of the base network, since it won't be changing,\n",
    "# and then repeatedly train on those outputs and the training labels\n",
    "\n",
    "# Like before, we grab a pretrained model with include_top=False\n",
    "base_model = MobileNetV2(weights='imagenet', include_top=False, input_shape=(IMAGE_SIZE, IMAGE_SIZE, 3))\n",
    "\n",
    "# Unlike before, we're going to just run the images through this base layer once\n",
    "# This takes awhile, we're essentially doing a round of evaluation on both datasets.\n",
    "# And we'll save them incase we want to experiment with different models to transfer\n",
    "# on top of these.\n",
    "training_features = base_model.predict(x_train)\n",
    "np.savez('MobileNetV2_features_train', features=training_features)\n",
    "\n",
    "test_features = base_model.predict(x_test)\n",
    "np.savez('MobileNetV2_features_test', features=test_features)"
   ]
  },
  {
   "cell_type": "code",
   "execution_count": 20,
   "metadata": {},
   "outputs": [
    {
     "name": "stdout",
     "output_type": "stream",
     "text": [
      "Train on 40000 samples, validate on 10000 samples\n",
      "Epoch 1/10\n",
      "40000/40000 [==============================] - 5s 133us/sample - loss: 3.2305 - accuracy: 0.2356 - val_loss: 2.2215 - val_accuracy: 0.4219\n",
      "Epoch 2/10\n",
      "40000/40000 [==============================] - 4s 105us/sample - loss: 2.2239 - accuracy: 0.4138 - val_loss: 1.9274 - val_accuracy: 0.4892\n",
      "Epoch 3/10\n",
      "40000/40000 [==============================] - 4s 110us/sample - loss: 1.9295 - accuracy: 0.4760 - val_loss: 1.7962 - val_accuracy: 0.5129\n",
      "Epoch 4/10\n",
      "40000/40000 [==============================] - 4s 109us/sample - loss: 1.7495 - accuracy: 0.5212 - val_loss: 1.7364 - val_accuracy: 0.5275\n",
      "Epoch 5/10\n",
      "40000/40000 [==============================] - 5s 114us/sample - loss: 1.6133 - accuracy: 0.5544 - val_loss: 1.6813 - val_accuracy: 0.5384\n",
      "Epoch 6/10\n",
      "40000/40000 [==============================] - 4s 108us/sample - loss: 1.4842 - accuracy: 0.5821 - val_loss: 1.6554 - val_accuracy: 0.5460\n",
      "Epoch 7/10\n",
      "40000/40000 [==============================] - 4s 110us/sample - loss: 1.3859 - accuracy: 0.6062 - val_loss: 1.6558 - val_accuracy: 0.5536\n",
      "Epoch 8/10\n",
      "40000/40000 [==============================] - 4s 110us/sample - loss: 1.2859 - accuracy: 0.6319 - val_loss: 1.6450 - val_accuracy: 0.5616\n",
      "Epoch 9/10\n",
      "40000/40000 [==============================] - 5s 135us/sample - loss: 1.2092 - accuracy: 0.6478 - val_loss: 1.6231 - val_accuracy: 0.5665\n",
      "Epoch 10/10\n",
      "40000/40000 [==============================] - 4s 111us/sample - loss: 1.1275 - accuracy: 0.6718 - val_loss: 1.6550 - val_accuracy: 0.5646\n"
     ]
    },
    {
     "data": {
      "image/png": "[encoded data removed]",
      "text/plain": [
       "<Figure size 432x288 with 2 Axes>"
      ]
     },
     "metadata": {
      "needs_background": "light"
     },
     "output_type": "display_data"
    },
    {
     "name": "stdout",
     "output_type": "stream",
     "text": [
      "Test loss: 1.64\n",
      "Test accuracy: 0.568\n"
     ]
    }
   ],
   "source": [
    "# If you have not run the above cell during this session, uncomment these lines to load the features.\n",
    "# training_features = np.load('MobileNetV2_features_train.npz')['features']\n",
    "# test_features = np.load('MobileNetV2_features_test.npz')['features']\n",
    "\n",
    "# Also unlike before, we're going to build a complete model\n",
    "# in the normal way, but define the input shape based on the \n",
    "# features predicted by base_model!\n",
    "model = Sequential()\n",
    "model.add(GlobalAveragePooling2D(input_shape=training_features.shape[1:]))\n",
    "\n",
    "# Note from the summary, this will result in 1280 nodes, let's use the classic \"squeeze\" and add dropout\n",
    "model.add(Dense(units=640, activation='relu'))\n",
    "model.add(Dropout(rate=0.3))\n",
    "model.add(Dense(units=320, activation='relu'))\n",
    "model.add(Dropout(rate=0.2))\n",
    "model.add(Dense(units=160, activation='relu'))\n",
    "model.add(Dropout(rate=0.1))\n",
    "\n",
    "#model.add(Dense(units=160, activation='relu'))\n",
    "#model.add(Dropout(rate=0.1))\n",
    "#model.add(Dense(units=320, activation='relu'))\n",
    "#model.add(Dropout(rate=0.2))\n",
    "#model.add(Dense(units=640, activation='relu'))\n",
    "#model.add(Dropout(rate=0.3))\n",
    "#model.add(Dense(units=1280, activation='relu'))\n",
    "#model.add(Dropout(rate=0.4))\n",
    "model.add(Dense(units=NUM_CLASSES, activation='softmax'))\n",
    "\n",
    "model.compile(loss='categorical_crossentropy', optimizer=Nadam(learning_rate=0.0005), metrics=['accuracy'])\n",
    "history = model.fit(training_features, y_train, batch_size=128, epochs=10, validation_split=0.2, verbose=True)\n",
    "#history, model = transfer_from_mobilenet(SGD(learning_rate=0.001), 0, 128, 5)\n",
    "plot_training_history(history, model)\n",
    "loss, accuracy = model.evaluate(test_features, y_test, verbose=False)\n",
    "print(f'Test loss: {loss:.3}')\n",
    "print(f'Test accuracy: {accuracy:.3}')"
   ]
  },
  {
   "cell_type": "code",
   "execution_count": null,
   "metadata": {},
   "outputs": [],
   "source": []
  }
 ],
 "metadata": {
  "kernelspec": {
   "display_name": "Python 3",
   "language": "python",
   "name": "python3"
  },
  "language_info": {
   "codemirror_mode": {
    "name": "ipython",
    "version": 3
   },
   "file_extension": ".py",
   "mimetype": "text/x-python",
   "name": "python",
   "nbconvert_exporter": "python",
   "pygments_lexer": "ipython3",
   "version": "3.7.7"
  }
 },
 "nbformat": 4,
 "nbformat_minor": 4
}
