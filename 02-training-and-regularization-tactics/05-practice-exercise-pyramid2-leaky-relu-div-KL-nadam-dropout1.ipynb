{
 "cells": [
  {
   "cell_type": "markdown",
   "metadata": {},
   "source": [
    "Importing and formatting data\n",
    "\n",
    "Import MNIST dataset of 60,000 training images and 10,000 testing images"
   ]
  },
  {
   "cell_type": "code",
   "execution_count": 1,
   "metadata": {},
   "outputs": [
    {
     "name": "stdout",
     "output_type": "stream",
     "text": [
      "60000 (28, 28)\n",
      "60000 5\n"
     ]
    }
   ],
   "source": [
    "import tensorflow as tf\n",
    "physical_devices = tf.config.list_physical_devices('GPU') \n",
    "tf.config.experimental.set_memory_growth(physical_devices[0], True)\n",
    "\n",
    "# For drawing the MNIST digits as well as plots to help us evaluate performance we\n",
    "# will make extensive use of matplotlib\n",
    "from matplotlib import pyplot as plt\n",
    "\n",
    "# All of the Keras datasets are in keras.datasets\n",
    "from tensorflow.keras.datasets import mnist\n",
    "\n",
    "# Keras has already split the data into training and test data\n",
    "(training_images, training_labels), (test_images, test_labels) = mnist.load_data()\n",
    "\n",
    "# Training images is a list of 60,000 2D lists.\n",
    "# Each 2D list is 28 by 28—the size of the MNIST pixel data.\n",
    "# Each item in the 2D array is an integer from 0 to 255 representing its grayscale\n",
    "# intensity where 0 means white, 255 means black.\n",
    "print(len(training_images), training_images[0].shape)\n",
    "\n",
    "# training_labels are a value between 0 and 9 indicating which digit is represented.\n",
    "# The first item in the training data is a 5\n",
    "print(len(training_labels), training_labels[0])\n"
   ]
  },
  {
   "cell_type": "markdown",
   "metadata": {},
   "source": [
    "Visualize the first 100 images in the dataset"
   ]
  },
  {
   "cell_type": "code",
   "execution_count": 2,
   "metadata": {},
   "outputs": [
    {
     "data": {
      "image/png": "[encoded data removed]",
      "text/plain": [
       "<Figure size 432x288 with 100 Axes>"
      ]
     },
     "metadata": {
      "needs_background": "light"
     },
     "output_type": "display_data"
    }
   ],
   "source": [
    "# Lets visualize the first 100 images from the dataset\n",
    "for i in range(100):\n",
    "    ax = plt.subplot(10, 10, i+1)\n",
    "    ax.axis('off')\n",
    "    plt.imshow(training_images[i], cmap='Greys')"
   ]
  },
  {
   "cell_type": "markdown",
   "metadata": {},
   "source": [
    "Fixing the data format: using `numpy.reshape` and `keras.util.to_categorical`"
   ]
  },
  {
   "cell_type": "code",
   "execution_count": 3,
   "metadata": {},
   "outputs": [
    {
     "name": "stdout",
     "output_type": "stream",
     "text": [
      "training data:  (60000, 28, 28)  ==>  (60000, 784)\n",
      "test data:  (10000, 28, 28)  ==>  (10000, 784)\n"
     ]
    }
   ],
   "source": [
    "from tensorflow.keras.utils import to_categorical\n",
    "\n",
    "# Preparing the dataset\n",
    "# Setup train and test splits\n",
    "(training_images, training_labels), (test_images, test_labels) = mnist.load_data()\n",
    "\n",
    "\n",
    "# 28 x 28 = 784, because that's the dimensions of the MNIST data.\n",
    "image_size = 784\n",
    "\n",
    "# Reshaping the training_images and test_images to lists of vectors with length 784\n",
    "# instead of lists of 2D arrays. Same for the test_images\n",
    "training_data = training_images.reshape(training_images.shape[0], image_size) \n",
    "test_data = test_images.reshape(test_images.shape[0], image_size)\n",
    "\n",
    "# [\n",
    "#     [1,2,3]\n",
    "#     [4,5,6]\n",
    "# ]\n",
    "\n",
    "# => [1,2,3,4,5,6]\n",
    "\n",
    "# Just showing the changes...\n",
    "print(\"training data: \", training_images.shape, \" ==> \", training_data.shape)\n",
    "print(\"test data: \", test_images.shape, \" ==> \", test_data.shape)"
   ]
  },
  {
   "cell_type": "code",
   "execution_count": 4,
   "metadata": {},
   "outputs": [],
   "source": [
    "# Create 1-hot encoded vectors using to_categorical\n",
    "num_classes = 10 # Because it's how many digits we have (0-9) \n",
    "\n",
    "# to_categorical takes a list of integers (our labels) and makes them into 1-hot vectors\n",
    "training_labels = to_categorical(training_labels, num_classes)\n",
    "test_labels = to_categorical(test_labels, num_classes)"
   ]
  },
  {
   "cell_type": "code",
   "execution_count": 5,
   "metadata": {},
   "outputs": [
    {
     "name": "stdout",
     "output_type": "stream",
     "text": [
      "[0. 0. 0. 0. 0. 1. 0. 0. 0. 0.]\n"
     ]
    }
   ],
   "source": [
    "# Recall that before this transformation, training_labels[0] was the value 5. Look now:\n",
    "print(training_labels[0])"
   ]
  },
  {
   "cell_type": "code",
   "execution_count": 6,
   "metadata": {},
   "outputs": [
    {
     "name": "stdout",
     "output_type": "stream",
     "text": [
      "Model: \"sequential\"\n",
      "_________________________________________________________________\n",
      "Layer (type)                 Output Shape              Param #   \n",
      "=================================================================\n",
      "dense (Dense)                (None, 15)                11775     \n",
      "_________________________________________________________________\n",
      "leaky_re_lu (LeakyReLU)      (None, 15)                0         \n",
      "_________________________________________________________________\n",
      "dense_1 (Dense)              (None, 15)                240       \n",
      "_________________________________________________________________\n",
      "leaky_re_lu_1 (LeakyReLU)    (None, 15)                0         \n",
      "_________________________________________________________________\n",
      "dropout (Dropout)            (None, 15)                0         \n",
      "_________________________________________________________________\n",
      "dense_2 (Dense)              (None, 18)                288       \n",
      "_________________________________________________________________\n",
      "leaky_re_lu_2 (LeakyReLU)    (None, 18)                0         \n",
      "_________________________________________________________________\n",
      "dropout_1 (Dropout)          (None, 18)                0         \n",
      "_________________________________________________________________\n",
      "dense_3 (Dense)              (None, 20)                380       \n",
      "_________________________________________________________________\n",
      "leaky_re_lu_3 (LeakyReLU)    (None, 20)                0         \n",
      "_________________________________________________________________\n",
      "dropout_2 (Dropout)          (None, 20)                0         \n",
      "_________________________________________________________________\n",
      "dense_4 (Dense)              (None, 23)                483       \n",
      "_________________________________________________________________\n",
      "leaky_re_lu_4 (LeakyReLU)    (None, 23)                0         \n",
      "_________________________________________________________________\n",
      "dropout_3 (Dropout)          (None, 23)                0         \n",
      "_________________________________________________________________\n",
      "dense_5 (Dense)              (None, 25)                600       \n",
      "_________________________________________________________________\n",
      "leaky_re_lu_5 (LeakyReLU)    (None, 25)                0         \n",
      "_________________________________________________________________\n",
      "dropout_4 (Dropout)          (None, 25)                0         \n",
      "_________________________________________________________________\n",
      "dense_6 (Dense)              (None, 30)                780       \n",
      "_________________________________________________________________\n",
      "leaky_re_lu_6 (LeakyReLU)    (None, 30)                0         \n",
      "_________________________________________________________________\n",
      "dropout_5 (Dropout)          (None, 30)                0         \n",
      "_________________________________________________________________\n",
      "dense_7 (Dense)              (None, 10)                310       \n",
      "=================================================================\n",
      "Total params: 14,856\n",
      "Trainable params: 14,856\n",
      "Non-trainable params: 0\n",
      "_________________________________________________________________\n"
     ]
    }
   ],
   "source": [
    "from tensorflow.keras.models import Sequential\n",
    "from tensorflow.keras.layers import Dense, Dropout\n",
    "# Using Leakly ReLU is slightly different in Keras, which can be annoying.\n",
    "# Additionally, Keras allows us to choose any slope we want for the \"leaky\" part\n",
    "# rather than being statically 0.01 as in the above two functions. \n",
    "from tensorflow.keras.layers import LeakyReLU\n",
    "\n",
    "# Sequential models are a series of layers applied linearly.\n",
    "medium_model = Sequential()\n",
    "# The first layer must specify it's input_shape.\n",
    "# This is how the first two layers are added, the input layer and the hidden layer.\n",
    "medium_model.add(Dense(units=15, input_shape=(image_size,)))\n",
    "medium_model.add(LeakyReLU(alpha=.1))\n",
    "\n",
    "medium_model.add(Dense(units=15))\n",
    "medium_model.add(LeakyReLU(alpha=.09))\n",
    "medium_model.add(Dropout(rate=0.1))\n",
    "\n",
    "medium_model.add(Dense(units=18))\n",
    "medium_model.add(LeakyReLU(alpha=.08))\n",
    "medium_model.add(Dropout(rate=0.1))\n",
    "\n",
    "medium_model.add(Dense(units=20))\n",
    "medium_model.add(LeakyReLU(alpha=.07))\n",
    "medium_model.add(Dropout(rate=0.05))\n",
    "\n",
    "medium_model.add(Dense(units=23))\n",
    "medium_model.add(LeakyReLU(alpha=.06))\n",
    "medium_model.add(Dropout(rate=0.05))\n",
    "\n",
    "medium_model.add(Dense(units=25))\n",
    "medium_model.add(LeakyReLU(alpha=.05))\n",
    "medium_model.add(Dropout(rate=0.05))\n",
    "\n",
    "medium_model.add(Dense(units=30))\n",
    "medium_model.add(LeakyReLU(alpha=.04))\n",
    "medium_model.add(Dropout(rate=0.05))\n",
    "\n",
    "\n",
    "# This is how the output layer gets added, the 'softmax' activation function ensures\n",
    "# that the sum of the values in the output nodes is 1. Softmax is very\n",
    "# common in classification networks. \n",
    "medium_model.add(Dense(units=num_classes, activation='softmax'))\n",
    "# This function provides useful text data for our network\n",
    "medium_model.summary()"
   ]
  },
  {
   "cell_type": "markdown",
   "metadata": {},
   "source": [
    "Compiling and training the model\n"
   ]
  },
  {
   "cell_type": "code",
   "execution_count": 7,
   "metadata": {},
   "outputs": [
    {
     "name": "stdout",
     "output_type": "stream",
     "text": [
      "Train on 54000 samples, validate on 6000 samples\n",
      "Epoch 1/50\n",
      "54000/54000 [==============================] - 7s 131us/sample - loss: 1.7050 - accuracy: 0.4157 - val_loss: 0.7387 - val_accuracy: 0.7207\n",
      "Epoch 2/50\n",
      "54000/54000 [==============================] - 5s 99us/sample - loss: 0.8599 - accuracy: 0.7034 - val_loss: 0.4128 - val_accuracy: 0.8878\n",
      "Epoch 3/50\n",
      "54000/54000 [==============================] - 5s 101us/sample - loss: 0.6206 - accuracy: 0.8145 - val_loss: 0.3041 - val_accuracy: 0.9220\n",
      "Epoch 4/50\n",
      "54000/54000 [==============================] - 5s 101us/sample - loss: 0.5124 - accuracy: 0.8538 - val_loss: 0.2900 - val_accuracy: 0.9198\n",
      "Epoch 5/50\n",
      "54000/54000 [==============================] - 6s 103us/sample - loss: 0.4554 - accuracy: 0.8712 - val_loss: 0.2491 - val_accuracy: 0.9315\n",
      "Epoch 6/50\n",
      "54000/54000 [==============================] - 5s 101us/sample - loss: 0.4213 - accuracy: 0.8820 - val_loss: 0.2481 - val_accuracy: 0.9312\n",
      "Epoch 7/50\n",
      "54000/54000 [==============================] - 6s 104us/sample - loss: 0.3933 - accuracy: 0.8892 - val_loss: 0.2214 - val_accuracy: 0.9385\n",
      "Epoch 8/50\n",
      "54000/54000 [==============================] - 5s 99us/sample - loss: 0.3779 - accuracy: 0.8942 - val_loss: 0.2164 - val_accuracy: 0.9422\n",
      "Epoch 9/50\n",
      "54000/54000 [==============================] - 6s 104us/sample - loss: 0.3634 - accuracy: 0.8990 - val_loss: 0.2169 - val_accuracy: 0.9408\n",
      "Epoch 10/50\n",
      "54000/54000 [==============================] - 5s 96us/sample - loss: 0.3423 - accuracy: 0.9040 - val_loss: 0.2077 - val_accuracy: 0.9432\n",
      "Epoch 11/50\n",
      "54000/54000 [==============================] - 5s 96us/sample - loss: 0.3329 - accuracy: 0.9066 - val_loss: 0.2006 - val_accuracy: 0.9433\n",
      "Epoch 12/50\n",
      "54000/54000 [==============================] - 5s 93us/sample - loss: 0.3198 - accuracy: 0.9091 - val_loss: 0.2038 - val_accuracy: 0.9435\n",
      "Epoch 13/50\n",
      "54000/54000 [==============================] - 5s 95us/sample - loss: 0.3146 - accuracy: 0.9118 - val_loss: 0.1908 - val_accuracy: 0.9480\n",
      "Epoch 14/50\n",
      "54000/54000 [==============================] - 5s 98us/sample - loss: 0.3090 - accuracy: 0.9132 - val_loss: 0.1852 - val_accuracy: 0.9503\n",
      "Epoch 15/50\n",
      "54000/54000 [==============================] - 6s 109us/sample - loss: 0.3038 - accuracy: 0.9139 - val_loss: 0.1954 - val_accuracy: 0.9468\n",
      "Epoch 16/50\n",
      "54000/54000 [==============================] - 5s 96us/sample - loss: 0.3018 - accuracy: 0.9159 - val_loss: 0.1876 - val_accuracy: 0.9468\n",
      "Epoch 17/50\n",
      "54000/54000 [==============================] - 5s 98us/sample - loss: 0.2932 - accuracy: 0.9167 - val_loss: 0.1915 - val_accuracy: 0.9465\n",
      "Epoch 18/50\n",
      "54000/54000 [==============================] - 5s 94us/sample - loss: 0.2931 - accuracy: 0.9183 - val_loss: 0.1788 - val_accuracy: 0.9512\n",
      "Epoch 19/50\n",
      "54000/54000 [==============================] - 5s 99us/sample - loss: 0.2828 - accuracy: 0.9208 - val_loss: 0.1797 - val_accuracy: 0.9508\n",
      "Epoch 20/50\n",
      "54000/54000 [==============================] - 5s 94us/sample - loss: 0.2808 - accuracy: 0.9217 - val_loss: 0.1734 - val_accuracy: 0.9530\n",
      "Epoch 21/50\n",
      "54000/54000 [==============================] - 5s 96us/sample - loss: 0.2759 - accuracy: 0.9204 - val_loss: 0.1763 - val_accuracy: 0.9513\n",
      "Epoch 22/50\n",
      "54000/54000 [==============================] - 6s 117us/sample - loss: 0.2725 - accuracy: 0.9232 - val_loss: 0.1802 - val_accuracy: 0.9495\n",
      "Epoch 23/50\n",
      "54000/54000 [==============================] - 7s 132us/sample - loss: 0.2644 - accuracy: 0.9248 - val_loss: 0.1892 - val_accuracy: 0.9465\n",
      "Epoch 24/50\n",
      "54000/54000 [==============================] - 7s 132us/sample - loss: 0.2630 - accuracy: 0.9259 - val_loss: 0.1864 - val_accuracy: 0.9492\n",
      "Epoch 25/50\n",
      "54000/54000 [==============================] - 7s 136us/sample - loss: 0.2590 - accuracy: 0.9261 - val_loss: 0.1879 - val_accuracy: 0.9473\n",
      "Epoch 26/50\n",
      "54000/54000 [==============================] - 6s 118us/sample - loss: 0.2608 - accuracy: 0.9260 - val_loss: 0.1740 - val_accuracy: 0.9512\n",
      "Epoch 27/50\n",
      "54000/54000 [==============================] - 7s 132us/sample - loss: 0.2526 - accuracy: 0.9274 - val_loss: 0.1845 - val_accuracy: 0.9488\n",
      "Epoch 28/50\n",
      "54000/54000 [==============================] - 6s 119us/sample - loss: 0.2531 - accuracy: 0.9282 - val_loss: 0.1843 - val_accuracy: 0.9485\n",
      "Epoch 29/50\n",
      "54000/54000 [==============================] - 6s 120us/sample - loss: 0.2538 - accuracy: 0.9280 - val_loss: 0.1855 - val_accuracy: 0.9490\n",
      "Epoch 30/50\n",
      "54000/54000 [==============================] - 7s 123us/sample - loss: 0.2469 - accuracy: 0.9297 - val_loss: 0.1773 - val_accuracy: 0.9520\n",
      "Epoch 31/50\n",
      "54000/54000 [==============================] - 7s 130us/sample - loss: 0.2457 - accuracy: 0.9292 - val_loss: 0.1728 - val_accuracy: 0.9530\n",
      "Epoch 32/50\n",
      "54000/54000 [==============================] - 7s 128us/sample - loss: 0.2453 - accuracy: 0.9302 - val_loss: 0.1743 - val_accuracy: 0.9540\n",
      "Epoch 33/50\n",
      "54000/54000 [==============================] - 7s 131us/sample - loss: 0.2404 - accuracy: 0.9321 - val_loss: 0.1646 - val_accuracy: 0.9553\n",
      "Epoch 34/50\n",
      "54000/54000 [==============================] - 7s 132us/sample - loss: 0.2383 - accuracy: 0.9317 - val_loss: 0.1740 - val_accuracy: 0.9537\n",
      "Epoch 35/50\n",
      "54000/54000 [==============================] - 8s 142us/sample - loss: 0.2412 - accuracy: 0.9315 - val_loss: 0.1674 - val_accuracy: 0.9527\n",
      "Epoch 36/50\n",
      "54000/54000 [==============================] - 8s 140us/sample - loss: 0.2360 - accuracy: 0.9335 - val_loss: 0.1636 - val_accuracy: 0.9547\n",
      "Epoch 37/50\n",
      "54000/54000 [==============================] - 7s 135us/sample - loss: 0.2335 - accuracy: 0.9336 - val_loss: 0.1722 - val_accuracy: 0.9517\n",
      "Epoch 38/50\n",
      "54000/54000 [==============================] - 8s 148us/sample - loss: 0.2314 - accuracy: 0.9347 - val_loss: 0.1820 - val_accuracy: 0.9508\n",
      "Epoch 39/50\n",
      "54000/54000 [==============================] - 8s 148us/sample - loss: 0.2338 - accuracy: 0.9325 - val_loss: 0.1760 - val_accuracy: 0.9537\n",
      "Epoch 40/50\n",
      "54000/54000 [==============================] - 7s 138us/sample - loss: 0.2319 - accuracy: 0.9328 - val_loss: 0.1749 - val_accuracy: 0.9535\n",
      "Epoch 41/50\n",
      "54000/54000 [==============================] - 7s 124us/sample - loss: 0.2297 - accuracy: 0.9335 - val_loss: 0.1799 - val_accuracy: 0.9508\n",
      "Epoch 42/50\n",
      "54000/54000 [==============================] - 6s 116us/sample - loss: 0.2269 - accuracy: 0.9356 - val_loss: 0.1715 - val_accuracy: 0.9515\n",
      "Epoch 43/50\n",
      "54000/54000 [==============================] - 6s 108us/sample - loss: 0.2236 - accuracy: 0.9349 - val_loss: 0.1722 - val_accuracy: 0.9538\n",
      "Epoch 44/50\n",
      "54000/54000 [==============================] - 6s 106us/sample - loss: 0.2225 - accuracy: 0.9376 - val_loss: 0.1676 - val_accuracy: 0.9572\n",
      "Epoch 45/50\n",
      "54000/54000 [==============================] - 6s 117us/sample - loss: 0.2205 - accuracy: 0.9370 - val_loss: 0.1714 - val_accuracy: 0.9555\n",
      "Epoch 46/50\n",
      "54000/54000 [==============================] - 7s 127us/sample - loss: 0.2198 - accuracy: 0.9372 - val_loss: 0.1740 - val_accuracy: 0.9550\n",
      "Epoch 47/50\n",
      "54000/54000 [==============================] - 7s 128us/sample - loss: 0.2168 - accuracy: 0.9375 - val_loss: 0.1774 - val_accuracy: 0.9543\n",
      "Epoch 48/50\n",
      "54000/54000 [==============================] - 7s 125us/sample - loss: 0.2196 - accuracy: 0.9370 - val_loss: 0.1700 - val_accuracy: 0.9555\n",
      "Epoch 49/50\n",
      "54000/54000 [==============================] - 7s 129us/sample - loss: 0.2168 - accuracy: 0.9371 - val_loss: 0.1686 - val_accuracy: 0.9555\n",
      "Epoch 50/50\n",
      "54000/54000 [==============================] - 6s 117us/sample - loss: 0.2171 - accuracy: 0.9384 - val_loss: 0.1710 - val_accuracy: 0.9538\n"
     ]
    }
   ],
   "source": [
    "# sgd stands for stochastic gradient descent.\n",
    "# categorical_crossentropy is a common loss function used for categorical classification.\n",
    "# accuracy is the percent of predictions that were correct.\n",
    "medium_model.compile(optimizer=\"nadam\", loss='kullback_leibler_divergence', metrics=['accuracy'])\n",
    "\n",
    "# The network will make predictions for 128 flattened images per correction.\n",
    "# It will make a prediction on each item in the training set 5 times (5 epochs)\n",
    "# And 10% of the data will be used as validation data.\n",
    "history = medium_model.fit(training_data, training_labels, batch_size=128, epochs=50, verbose=True, validation_split=.1)"
   ]
  },
  {
   "cell_type": "markdown",
   "metadata": {},
   "source": [
    "Evaluating our model"
   ]
  },
  {
   "cell_type": "code",
   "execution_count": 8,
   "metadata": {},
   "outputs": [
    {
     "name": "stdout",
     "output_type": "stream",
     "text": [
      "10000/10000 [==============================] - 1s 84us/sample - loss: 0.2146 - accuracy: 0.9438\n"
     ]
    },
    {
     "data": {
      "image/png": "[encoded data removed]",
      "text/plain": [
       "<Figure size 432x288 with 1 Axes>"
      ]
     },
     "metadata": {
      "needs_background": "light"
     },
     "output_type": "display_data"
    },
    {
     "data": {
      "image/png": "[encoded data removed]",
      "text/plain": [
       "<Figure size 432x288 with 1 Axes>"
      ]
     },
     "metadata": {
      "needs_background": "light"
     },
     "output_type": "display_data"
    },
    {
     "name": "stdout",
     "output_type": "stream",
     "text": [
      "Test loss: 0.215\n",
      "Test accuracy: 0.944\n",
      "[0.4157037, 0.70335186, 0.8144815, 0.8537593, 0.87116665, 0.88203704, 0.8892037, 0.8941852, 0.89898145, 0.90396297, 0.90664816, 0.90914816, 0.9118148, 0.9131852, 0.9138889, 0.9159074, 0.9166667, 0.91833335, 0.92075926, 0.9217408, 0.9203704, 0.92318517, 0.9247963, 0.9258889, 0.9260741, 0.926, 0.92737037, 0.9282407, 0.9280185, 0.9296852, 0.92924076, 0.93016666, 0.9320926, 0.93174076, 0.9314815, 0.9335185, 0.9335926, 0.9346852, 0.9325, 0.9328333, 0.93348145, 0.9356296, 0.9348889, 0.93762964, 0.93696296, 0.9371667, 0.93748146, 0.937, 0.93711114, 0.9384074]\n",
      "[0.72066665, 0.88783336, 0.922, 0.91983336, 0.9315, 0.93116665, 0.9385, 0.9421667, 0.94083333, 0.9431667, 0.9433333, 0.9435, 0.948, 0.95033336, 0.9468333, 0.9468333, 0.9465, 0.9511667, 0.9508333, 0.953, 0.95133334, 0.9495, 0.9465, 0.94916666, 0.94733334, 0.9511667, 0.94883335, 0.9485, 0.949, 0.952, 0.953, 0.954, 0.95533335, 0.9536667, 0.95266664, 0.9546667, 0.95166665, 0.9508333, 0.9536667, 0.9535, 0.9508333, 0.9515, 0.95383334, 0.9571667, 0.9555, 0.955, 0.9543333, 0.9555, 0.9555, 0.95383334]\n"
     ]
    }
   ],
   "source": [
    "loss, accuracy = medium_model.evaluate(test_data, test_labels, verbose=True)\n",
    "\n",
    "plt.plot(history.history['accuracy'])\n",
    "plt.plot(history.history['val_accuracy'])\n",
    "plt.title('model accuracy')\n",
    "plt.ylabel('accuracy')\n",
    "plt.xlabel('epoch')\n",
    "plt.legend(['training', 'validation'], loc='best')\n",
    "\n",
    "plt.show()\n",
    "\n",
    "plt.plot(history.history['loss'])\n",
    "plt.plot(history.history['val_loss'])\n",
    "plt.title('model loss')\n",
    "plt.ylabel('loss')\n",
    "plt.xlabel('epoch')\n",
    "plt.legend(['training', 'validation'], loc='best')\n",
    "\n",
    "plt.show()\n",
    "\n",
    "print(f'Test loss: {loss:.3}')\n",
    "print(f'Test accuracy: {accuracy:.3}')\n",
    "print(history.history['accuracy'])\n",
    "print(history.history['val_accuracy'])"
   ]
  },
  {
   "cell_type": "markdown",
   "metadata": {},
   "source": [
    "Look at specific results"
   ]
  },
  {
   "cell_type": "code",
   "execution_count": 9,
   "metadata": {},
   "outputs": [],
   "source": [
    "from numpy import argmax\n",
    "\n",
    "# Predicting once, then we can use these repeatedly in the next cell without recomputing the predictions.\n",
    "predictions = medium_model.predict(test_data)\n",
    "\n",
    "# For pagination & style in second cell\n",
    "page = 0\n",
    "fontdict = {'color': 'black'}"
   ]
  },
  {
   "cell_type": "code",
   "execution_count": 10,
   "metadata": {},
   "outputs": [
    {
     "data": {
      "image/png": "[encoded data removed]",
      "text/plain": [
       "<Figure size 432x288 with 16 Axes>"
      ]
     },
     "metadata": {
      "needs_background": "light"
     },
     "output_type": "display_data"
    }
   ],
   "source": [
    "# Repeatedly running this cell will page through the predictions\n",
    "for i in range(16):\n",
    "    ax = plt.subplot(4, 4, i+1)\n",
    "    ax.axis('off')\n",
    "    plt.imshow(test_images[i + page], cmap='Greys')\n",
    "    prediction = argmax(predictions[i + page])\n",
    "    true_value = argmax(test_labels[i + page])\n",
    "\n",
    "    fontdict['color'] = 'black' if prediction == true_value else 'red'\n",
    "    plt.title(\"{}, {}\".format(prediction, true_value), fontdict=fontdict)\n",
    "\n",
    "page += 16\n",
    "plt.tight_layout()\n",
    "plt.show()"
   ]
  },
  {
   "cell_type": "code",
   "execution_count": null,
   "metadata": {},
   "outputs": [],
   "source": []
  }
 ],
 "metadata": {
  "kernelspec": {
   "display_name": "Python 3",
   "language": "python",
   "name": "python3"
  },
  "language_info": {
   "codemirror_mode": {
    "name": "ipython",
    "version": 3
   },
   "file_extension": ".py",
   "mimetype": "text/x-python",
   "name": "python",
   "nbconvert_exporter": "python",
   "pygments_lexer": "ipython3",
   "version": "3.7.7"
  }
 },
 "nbformat": 4,
 "nbformat_minor": 4
}
