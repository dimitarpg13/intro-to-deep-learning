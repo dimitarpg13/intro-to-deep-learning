{
 "cells": [
  {
   "cell_type": "markdown",
   "metadata": {},
   "source": [
    "Importing and formatting data\n",
    "\n",
    "Import MNIST dataset of 60,000 training images and 10,000 testing images"
   ]
  },
  {
   "cell_type": "code",
   "execution_count": 1,
   "metadata": {},
   "outputs": [
    {
     "name": "stdout",
     "output_type": "stream",
     "text": [
      "60000 (28, 28)\n",
      "60000 5\n"
     ]
    }
   ],
   "source": [
    "import tensorflow as tf\n",
    "physical_devices = tf.config.list_physical_devices('GPU') \n",
    "tf.config.experimental.set_memory_growth(physical_devices[0], True)\n",
    "\n",
    "# For drawing the MNIST digits as well as plots to help us evaluate performance we\n",
    "# will make extensive use of matplotlib\n",
    "from matplotlib import pyplot as plt\n",
    "\n",
    "# All of the Keras datasets are in keras.datasets\n",
    "from tensorflow.keras.datasets import mnist\n",
    "\n",
    "# Keras has already split the data into training and test data\n",
    "(training_images, training_labels), (test_images, test_labels) = mnist.load_data()\n",
    "\n",
    "# Training images is a list of 60,000 2D lists.\n",
    "# Each 2D list is 28 by 28—the size of the MNIST pixel data.\n",
    "# Each item in the 2D array is an integer from 0 to 255 representing its grayscale\n",
    "# intensity where 0 means white, 255 means black.\n",
    "print(len(training_images), training_images[0].shape)\n",
    "\n",
    "# training_labels are a value between 0 and 9 indicating which digit is represented.\n",
    "# The first item in the training data is a 5\n",
    "print(len(training_labels), training_labels[0])\n"
   ]
  },
  {
   "cell_type": "markdown",
   "metadata": {},
   "source": [
    "Visualize the first 100 images in the dataset"
   ]
  },
  {
   "cell_type": "code",
   "execution_count": 2,
   "metadata": {},
   "outputs": [
    {
     "data": {
      "image/png": "[encoded data removed]",
      "text/plain": [
       "<Figure size 432x288 with 100 Axes>"
      ]
     },
     "metadata": {
      "needs_background": "light"
     },
     "output_type": "display_data"
    }
   ],
   "source": [
    "# Lets visualize the first 100 images from the dataset\n",
    "for i in range(100):\n",
    "    ax = plt.subplot(10, 10, i+1)\n",
    "    ax.axis('off')\n",
    "    plt.imshow(training_images[i], cmap='Greys')"
   ]
  },
  {
   "cell_type": "markdown",
   "metadata": {},
   "source": [
    "Fixing the data format: using `numpy.reshape` and `keras.util.to_categorical`"
   ]
  },
  {
   "cell_type": "code",
   "execution_count": 3,
   "metadata": {},
   "outputs": [
    {
     "name": "stdout",
     "output_type": "stream",
     "text": [
      "training data:  (60000, 28, 28)  ==>  (60000, 784)\n",
      "test data:  (10000, 28, 28)  ==>  (10000, 784)\n"
     ]
    }
   ],
   "source": [
    "from tensorflow.keras.utils import to_categorical\n",
    "\n",
    "# Preparing the dataset\n",
    "# Setup train and test splits\n",
    "(training_images, training_labels), (test_images, test_labels) = mnist.load_data()\n",
    "\n",
    "\n",
    "# 28 x 28 = 784, because that's the dimensions of the MNIST data.\n",
    "image_size = 784\n",
    "\n",
    "# Reshaping the training_images and test_images to lists of vectors with length 784\n",
    "# instead of lists of 2D arrays. Same for the test_images\n",
    "training_data = training_images.reshape(training_images.shape[0], image_size) \n",
    "test_data = test_images.reshape(test_images.shape[0], image_size)\n",
    "\n",
    "# [\n",
    "#     [1,2,3]\n",
    "#     [4,5,6]\n",
    "# ]\n",
    "\n",
    "# => [1,2,3,4,5,6]\n",
    "\n",
    "# Just showing the changes...\n",
    "print(\"training data: \", training_images.shape, \" ==> \", training_data.shape)\n",
    "print(\"test data: \", test_images.shape, \" ==> \", test_data.shape)"
   ]
  },
  {
   "cell_type": "code",
   "execution_count": 4,
   "metadata": {},
   "outputs": [],
   "source": [
    "# Create 1-hot encoded vectors using to_categorical\n",
    "num_classes = 10 # Because it's how many digits we have (0-9) \n",
    "\n",
    "# to_categorical takes a list of integers (our labels) and makes them into 1-hot vectors\n",
    "training_labels = to_categorical(training_labels, num_classes)\n",
    "test_labels = to_categorical(test_labels, num_classes)"
   ]
  },
  {
   "cell_type": "code",
   "execution_count": 5,
   "metadata": {},
   "outputs": [
    {
     "name": "stdout",
     "output_type": "stream",
     "text": [
      "[0. 0. 0. 0. 0. 1. 0. 0. 0. 0.]\n"
     ]
    }
   ],
   "source": [
    "# Recall that before this transformation, training_labels[0] was the value 5. Look now:\n",
    "print(training_labels[0])"
   ]
  },
  {
   "cell_type": "code",
   "execution_count": 6,
   "metadata": {},
   "outputs": [
    {
     "name": "stdout",
     "output_type": "stream",
     "text": [
      "Model: \"sequential\"\n",
      "_________________________________________________________________\n",
      "Layer (type)                 Output Shape              Param #   \n",
      "=================================================================\n",
      "dense (Dense)                (None, 30)                23550     \n",
      "_________________________________________________________________\n",
      "leaky_re_lu (LeakyReLU)      (None, 30)                0         \n",
      "_________________________________________________________________\n",
      "dense_1 (Dense)              (None, 30)                930       \n",
      "_________________________________________________________________\n",
      "leaky_re_lu_1 (LeakyReLU)    (None, 30)                0         \n",
      "_________________________________________________________________\n",
      "dense_2 (Dense)              (None, 30)                930       \n",
      "_________________________________________________________________\n",
      "leaky_re_lu_2 (LeakyReLU)    (None, 30)                0         \n",
      "_________________________________________________________________\n",
      "dense_3 (Dense)              (None, 30)                930       \n",
      "_________________________________________________________________\n",
      "leaky_re_lu_3 (LeakyReLU)    (None, 30)                0         \n",
      "_________________________________________________________________\n",
      "dense_4 (Dense)              (None, 30)                930       \n",
      "_________________________________________________________________\n",
      "leaky_re_lu_4 (LeakyReLU)    (None, 30)                0         \n",
      "_________________________________________________________________\n",
      "dense_5 (Dense)              (None, 30)                930       \n",
      "_________________________________________________________________\n",
      "leaky_re_lu_5 (LeakyReLU)    (None, 30)                0         \n",
      "_________________________________________________________________\n",
      "dense_6 (Dense)              (None, 30)                930       \n",
      "_________________________________________________________________\n",
      "leaky_re_lu_6 (LeakyReLU)    (None, 30)                0         \n",
      "_________________________________________________________________\n",
      "dense_7 (Dense)              (None, 30)                930       \n",
      "_________________________________________________________________\n",
      "leaky_re_lu_7 (LeakyReLU)    (None, 30)                0         \n",
      "_________________________________________________________________\n",
      "dense_8 (Dense)              (None, 30)                930       \n",
      "_________________________________________________________________\n",
      "leaky_re_lu_8 (LeakyReLU)    (None, 30)                0         \n",
      "_________________________________________________________________\n",
      "dense_9 (Dense)              (None, 30)                930       \n",
      "_________________________________________________________________\n",
      "leaky_re_lu_9 (LeakyReLU)    (None, 30)                0         \n",
      "_________________________________________________________________\n",
      "dense_10 (Dense)             (None, 10)                310       \n",
      "=================================================================\n",
      "Total params: 32,230\n",
      "Trainable params: 32,230\n",
      "Non-trainable params: 0\n",
      "_________________________________________________________________\n"
     ]
    }
   ],
   "source": [
    "from tensorflow.keras.models import Sequential\n",
    "from tensorflow.keras.layers import Dense\n",
    "# Using Leakly ReLU is slightly different in Keras, which can be annoying.\n",
    "# Additionally, Keras allows us to choose any slope we want for the \"leaky\" part\n",
    "# rather than being statically 0.01 as in the above two functions. \n",
    "from tensorflow.keras.layers import LeakyReLU\n",
    "\n",
    "# Sequential models are a series of layers applied linearly.\n",
    "medium_model = Sequential()\n",
    "# The first layer must specify it's input_shape.\n",
    "# This is how the first two layers are added, the input layer and the hidden layer.\n",
    "medium_model.add(Dense(units=30, input_shape=(image_size,)))\n",
    "medium_model.add(LeakyReLU(alpha=.1))\n",
    "\n",
    "medium_model.add(Dense(units=30))\n",
    "medium_model.add(LeakyReLU(alpha=.09))\n",
    "\n",
    "medium_model.add(Dense(units=30))\n",
    "medium_model.add(LeakyReLU(alpha=.08))\n",
    "\n",
    "medium_model.add(Dense(units=30))\n",
    "medium_model.add(LeakyReLU(alpha=.07))\n",
    "\n",
    "medium_model.add(Dense(units=30))\n",
    "medium_model.add(LeakyReLU(alpha=.06))\n",
    "\n",
    "medium_model.add(Dense(units=30))\n",
    "medium_model.add(LeakyReLU(alpha=.05))\n",
    "\n",
    "medium_model.add(Dense(units=30))\n",
    "medium_model.add(LeakyReLU(alpha=.04))\n",
    "\n",
    "medium_model.add(Dense(units=30))\n",
    "medium_model.add(LeakyReLU(alpha=.03))\n",
    "\n",
    "medium_model.add(Dense(units=30))\n",
    "medium_model.add(LeakyReLU(alpha=.02))\n",
    "\n",
    "medium_model.add(Dense(units=30))\n",
    "medium_model.add(LeakyReLU(alpha=.01))\n",
    "\n",
    "# This is how the output layer gets added, the 'softmax' activation function ensures\n",
    "# that the sum of the values in the output nodes is 1. Softmax is very\n",
    "# common in classification networks. \n",
    "medium_model.add(Dense(units=num_classes, activation='softmax'))\n",
    "# This function provides useful text data for our network\n",
    "medium_model.summary()"
   ]
  },
  {
   "cell_type": "markdown",
   "metadata": {},
   "source": [
    "Compiling and training the model\n"
   ]
  },
  {
   "cell_type": "code",
   "execution_count": 7,
   "metadata": {},
   "outputs": [
    {
     "name": "stdout",
     "output_type": "stream",
     "text": [
      "Train on 54000 samples, validate on 6000 samples\n",
      "Epoch 1/30\n",
      "54000/54000 [==============================] - 8s 142us/sample - loss: 0.7142 - accuracy: 0.7789 - val_loss: 0.2549 - val_accuracy: 0.9260\n",
      "Epoch 2/30\n",
      "54000/54000 [==============================] - 6s 111us/sample - loss: 0.2614 - accuracy: 0.9245 - val_loss: 0.1977 - val_accuracy: 0.9412\n",
      "Epoch 3/30\n",
      "54000/54000 [==============================] - 6s 110us/sample - loss: 0.2047 - accuracy: 0.9401 - val_loss: 0.1595 - val_accuracy: 0.9528\n",
      "Epoch 4/30\n",
      "54000/54000 [==============================] - 6s 112us/sample - loss: 0.1708 - accuracy: 0.9503 - val_loss: 0.1491 - val_accuracy: 0.9590\n",
      "Epoch 5/30\n",
      "54000/54000 [==============================] - 6s 108us/sample - loss: 0.1510 - accuracy: 0.9559 - val_loss: 0.1510 - val_accuracy: 0.9580\n",
      "Epoch 6/30\n",
      "54000/54000 [==============================] - 6s 113us/sample - loss: 0.1350 - accuracy: 0.9599 - val_loss: 0.1421 - val_accuracy: 0.9583\n",
      "Epoch 7/30\n",
      "54000/54000 [==============================] - 6s 112us/sample - loss: 0.1234 - accuracy: 0.9633 - val_loss: 0.1402 - val_accuracy: 0.9600\n",
      "Epoch 8/30\n",
      "54000/54000 [==============================] - 6s 111us/sample - loss: 0.1110 - accuracy: 0.9677 - val_loss: 0.1590 - val_accuracy: 0.9565\n",
      "Epoch 9/30\n",
      "54000/54000 [==============================] - 6s 116us/sample - loss: 0.1033 - accuracy: 0.9691 - val_loss: 0.1397 - val_accuracy: 0.9645\n",
      "Epoch 10/30\n",
      "54000/54000 [==============================] - 6s 112us/sample - loss: 0.0972 - accuracy: 0.9706 - val_loss: 0.1386 - val_accuracy: 0.9608\n",
      "Epoch 11/30\n",
      "54000/54000 [==============================] - 6s 112us/sample - loss: 0.0907 - accuracy: 0.9728 - val_loss: 0.1437 - val_accuracy: 0.9592\n",
      "Epoch 12/30\n",
      "54000/54000 [==============================] - 6s 118us/sample - loss: 0.0842 - accuracy: 0.9749 - val_loss: 0.1400 - val_accuracy: 0.9627\n",
      "Epoch 13/30\n",
      "54000/54000 [==============================] - 6s 119us/sample - loss: 0.0829 - accuracy: 0.9751 - val_loss: 0.1348 - val_accuracy: 0.9653\n",
      "Epoch 14/30\n",
      "54000/54000 [==============================] - 6s 114us/sample - loss: 0.0790 - accuracy: 0.9758 - val_loss: 0.1325 - val_accuracy: 0.9673\n",
      "Epoch 15/30\n",
      "54000/54000 [==============================] - 6s 116us/sample - loss: 0.0729 - accuracy: 0.9779 - val_loss: 0.1289 - val_accuracy: 0.9653\n",
      "Epoch 16/30\n",
      "54000/54000 [==============================] - 7s 125us/sample - loss: 0.0686 - accuracy: 0.9796 - val_loss: 0.1191 - val_accuracy: 0.9690\n",
      "Epoch 17/30\n",
      "54000/54000 [==============================] - 7s 121us/sample - loss: 0.0672 - accuracy: 0.9799 - val_loss: 0.1314 - val_accuracy: 0.9682\n",
      "Epoch 18/30\n",
      "54000/54000 [==============================] - 7s 125us/sample - loss: 0.0661 - accuracy: 0.9795 - val_loss: 0.1246 - val_accuracy: 0.9657\n",
      "Epoch 19/30\n",
      "54000/54000 [==============================] - 7s 127us/sample - loss: 0.0603 - accuracy: 0.9818 - val_loss: 0.1236 - val_accuracy: 0.9663\n",
      "Epoch 20/30\n",
      "54000/54000 [==============================] - 7s 130us/sample - loss: 0.0580 - accuracy: 0.9825 - val_loss: 0.1240 - val_accuracy: 0.9705\n",
      "Epoch 21/30\n",
      "54000/54000 [==============================] - 7s 134us/sample - loss: 0.0569 - accuracy: 0.9825 - val_loss: 0.1190 - val_accuracy: 0.9693\n",
      "Epoch 22/30\n",
      "54000/54000 [==============================] - 7s 129us/sample - loss: 0.0571 - accuracy: 0.9824 - val_loss: 0.1434 - val_accuracy: 0.9627\n",
      "Epoch 23/30\n",
      "54000/54000 [==============================] - 7s 136us/sample - loss: 0.0565 - accuracy: 0.9834 - val_loss: 0.1299 - val_accuracy: 0.9678\n",
      "Epoch 24/30\n",
      "54000/54000 [==============================] - 8s 140us/sample - loss: 0.0506 - accuracy: 0.9846 - val_loss: 0.1286 - val_accuracy: 0.9712\n",
      "Epoch 25/30\n",
      "54000/54000 [==============================] - 7s 136us/sample - loss: 0.0483 - accuracy: 0.9857 - val_loss: 0.1251 - val_accuracy: 0.9695\n",
      "Epoch 26/30\n",
      "54000/54000 [==============================] - 7s 135us/sample - loss: 0.0513 - accuracy: 0.9846 - val_loss: 0.1415 - val_accuracy: 0.9665\n",
      "Epoch 27/30\n",
      "54000/54000 [==============================] - 8s 141us/sample - loss: 0.0456 - accuracy: 0.9859 - val_loss: 0.1407 - val_accuracy: 0.9660\n",
      "Epoch 28/30\n",
      "54000/54000 [==============================] - 7s 137us/sample - loss: 0.0469 - accuracy: 0.9860 - val_loss: 0.1291 - val_accuracy: 0.9687\n",
      "Epoch 29/30\n",
      "54000/54000 [==============================] - 7s 137us/sample - loss: 0.0433 - accuracy: 0.9867 - val_loss: 0.1272 - val_accuracy: 0.9708\n",
      "Epoch 30/30\n",
      "54000/54000 [==============================] - 8s 145us/sample - loss: 0.0450 - accuracy: 0.9865 - val_loss: 0.1267 - val_accuracy: 0.9698\n"
     ]
    }
   ],
   "source": [
    "# sgd stands for stochastic gradient descent.\n",
    "# categorical_crossentropy is a common loss function used for categorical classification.\n",
    "# accuracy is the percent of predictions that were correct.\n",
    "medium_model.compile(optimizer=\"nadam\", loss='kullback_leibler_divergence', metrics=['accuracy'])\n",
    "\n",
    "# The network will make predictions for 128 flattened images per correction.\n",
    "# It will make a prediction on each item in the training set 5 times (5 epochs)\n",
    "# And 10% of the data will be used as validation data.\n",
    "history = medium_model.fit(training_data, training_labels, batch_size=128, epochs=30, verbose=True, validation_split=.1)"
   ]
  },
  {
   "cell_type": "markdown",
   "metadata": {},
   "source": [
    "Evaluating our model"
   ]
  },
  {
   "cell_type": "code",
   "execution_count": 8,
   "metadata": {},
   "outputs": [
    {
     "name": "stdout",
     "output_type": "stream",
     "text": [
      "10000/10000 [==============================] - 1s 94us/sample - loss: 0.1591 - accuracy: 0.9607\n"
     ]
    },
    {
     "data": {
      "image/png": "[encoded data removed]",
      "text/plain": [
       "<Figure size 432x288 with 1 Axes>"
      ]
     },
     "metadata": {
      "needs_background": "light"
     },
     "output_type": "display_data"
    },
    {
     "data": {
      "image/png": "[encoded data removed]",
      "text/plain": [
       "<Figure size 432x288 with 1 Axes>"
      ]
     },
     "metadata": {
      "needs_background": "light"
     },
     "output_type": "display_data"
    },
    {
     "name": "stdout",
     "output_type": "stream",
     "text": [
      "Test loss: 0.159\n",
      "Test accuracy: 0.961\n",
      "[0.7789074, 0.92453706, 0.94009256, 0.9503148, 0.9559444, 0.95992595, 0.9632593, 0.9677037, 0.9690926, 0.9705741, 0.9728148, 0.97492594, 0.9750556, 0.97583336, 0.9778889, 0.97962964, 0.9798704, 0.97951853, 0.98183334, 0.9824815, 0.98246294, 0.9824074, 0.9834074, 0.98455554, 0.9856667, 0.9845926, 0.9858518, 0.98601854, 0.9867037, 0.98653704]\n",
      "[0.926, 0.94116664, 0.95283335, 0.959, 0.958, 0.9583333, 0.96, 0.9565, 0.9645, 0.9608333, 0.95916665, 0.9626667, 0.96533334, 0.9673333, 0.96533334, 0.969, 0.96816665, 0.96566665, 0.9663333, 0.9705, 0.96933335, 0.9626667, 0.96783334, 0.9711667, 0.9695, 0.9665, 0.966, 0.9686667, 0.97083336, 0.9698333]\n"
     ]
    }
   ],
   "source": [
    "loss, accuracy = medium_model.evaluate(test_data, test_labels, verbose=True)\n",
    "\n",
    "plt.plot(history.history['accuracy'])\n",
    "plt.plot(history.history['val_accuracy'])\n",
    "plt.title('model accuracy')\n",
    "plt.ylabel('accuracy')\n",
    "plt.xlabel('epoch')\n",
    "plt.legend(['training', 'validation'], loc='best')\n",
    "\n",
    "plt.show()\n",
    "\n",
    "plt.plot(history.history['loss'])\n",
    "plt.plot(history.history['val_loss'])\n",
    "plt.title('model loss')\n",
    "plt.ylabel('loss')\n",
    "plt.xlabel('epoch')\n",
    "plt.legend(['training', 'validation'], loc='best')\n",
    "\n",
    "plt.show()\n",
    "\n",
    "print(f'Test loss: {loss:.3}')\n",
    "print(f'Test accuracy: {accuracy:.3}')\n",
    "print(history.history['accuracy'])\n",
    "print(history.history['val_accuracy'])"
   ]
  },
  {
   "cell_type": "markdown",
   "metadata": {},
   "source": [
    "Look at specific results"
   ]
  },
  {
   "cell_type": "code",
   "execution_count": 9,
   "metadata": {},
   "outputs": [],
   "source": [
    "from numpy import argmax\n",
    "\n",
    "# Predicting once, then we can use these repeatedly in the next cell without recomputing the predictions.\n",
    "predictions = medium_model.predict(test_data)\n",
    "\n",
    "# For pagination & style in second cell\n",
    "page = 0\n",
    "fontdict = {'color': 'black'}"
   ]
  },
  {
   "cell_type": "code",
   "execution_count": 10,
   "metadata": {},
   "outputs": [
    {
     "data": {
      "image/png": "[encoded data removed]",
      "text/plain": [
       "<Figure size 432x288 with 16 Axes>"
      ]
     },
     "metadata": {
      "needs_background": "light"
     },
     "output_type": "display_data"
    }
   ],
   "source": [
    "# Repeatedly running this cell will page through the predictions\n",
    "for i in range(16):\n",
    "    ax = plt.subplot(4, 4, i+1)\n",
    "    ax.axis('off')\n",
    "    plt.imshow(test_images[i + page], cmap='Greys')\n",
    "    prediction = argmax(predictions[i + page])\n",
    "    true_value = argmax(test_labels[i + page])\n",
    "\n",
    "    fontdict['color'] = 'black' if prediction == true_value else 'red'\n",
    "    plt.title(\"{}, {}\".format(prediction, true_value), fontdict=fontdict)\n",
    "\n",
    "page += 16\n",
    "plt.tight_layout()\n",
    "plt.show()"
   ]
  },
  {
   "cell_type": "code",
   "execution_count": null,
   "metadata": {},
   "outputs": [],
   "source": []
  }
 ],
 "metadata": {
  "kernelspec": {
   "display_name": "Python 3",
   "language": "python",
   "name": "python3"
  },
  "language_info": {
   "codemirror_mode": {
    "name": "ipython",
    "version": 3
   },
   "file_extension": ".py",
   "mimetype": "text/x-python",
   "name": "python",
   "nbconvert_exporter": "python",
   "pygments_lexer": "ipython3",
   "version": "3.7.7"
  }
 },
 "nbformat": 4,
 "nbformat_minor": 4
}
