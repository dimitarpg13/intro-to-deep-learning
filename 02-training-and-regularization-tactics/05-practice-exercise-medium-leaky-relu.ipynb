{
 "cells": [
  {
   "cell_type": "markdown",
   "metadata": {},
   "source": [
    "Importing and formatting data\n",
    "\n",
    "Import MNIST dataset of 60,000 training images and 10,000 testing images"
   ]
  },
  {
   "cell_type": "code",
   "execution_count": 1,
   "metadata": {},
   "outputs": [
    {
     "name": "stdout",
     "output_type": "stream",
     "text": [
      "60000 (28, 28)\n",
      "60000 5\n"
     ]
    }
   ],
   "source": [
    "import tensorflow as tf\n",
    "physical_devices = tf.config.list_physical_devices('GPU') \n",
    "tf.config.experimental.set_memory_growth(physical_devices[0], True)\n",
    "\n",
    "# For drawing the MNIST digits as well as plots to help us evaluate performance we\n",
    "# will make extensive use of matplotlib\n",
    "from matplotlib import pyplot as plt\n",
    "\n",
    "# All of the Keras datasets are in keras.datasets\n",
    "from tensorflow.keras.datasets import mnist\n",
    "\n",
    "# Keras has already split the data into training and test data\n",
    "(training_images, training_labels), (test_images, test_labels) = mnist.load_data()\n",
    "\n",
    "# Training images is a list of 60,000 2D lists.\n",
    "# Each 2D list is 28 by 28—the size of the MNIST pixel data.\n",
    "# Each item in the 2D array is an integer from 0 to 255 representing its grayscale\n",
    "# intensity where 0 means white, 255 means black.\n",
    "print(len(training_images), training_images[0].shape)\n",
    "\n",
    "# training_labels are a value between 0 and 9 indicating which digit is represented.\n",
    "# The first item in the training data is a 5\n",
    "print(len(training_labels), training_labels[0])\n"
   ]
  },
  {
   "cell_type": "markdown",
   "metadata": {},
   "source": [
    "Visualize the first 100 images in the dataset"
   ]
  },
  {
   "cell_type": "code",
   "execution_count": 2,
   "metadata": {},
   "outputs": [
    {
     "data": {
      "image/png": "[encoded data removed]",
      "text/plain": [
       "<Figure size 432x288 with 100 Axes>"
      ]
     },
     "metadata": {
      "needs_background": "light"
     },
     "output_type": "display_data"
    }
   ],
   "source": [
    "# Lets visualize the first 100 images from the dataset\n",
    "for i in range(100):\n",
    "    ax = plt.subplot(10, 10, i+1)\n",
    "    ax.axis('off')\n",
    "    plt.imshow(training_images[i], cmap='Greys')"
   ]
  },
  {
   "cell_type": "markdown",
   "metadata": {},
   "source": [
    "Fixing the data format: using `numpy.reshape` and `keras.util.to_categorical`"
   ]
  },
  {
   "cell_type": "code",
   "execution_count": 3,
   "metadata": {},
   "outputs": [
    {
     "name": "stdout",
     "output_type": "stream",
     "text": [
      "training data:  (60000, 28, 28)  ==>  (60000, 784)\n",
      "test data:  (10000, 28, 28)  ==>  (10000, 784)\n"
     ]
    }
   ],
   "source": [
    "from tensorflow.keras.utils import to_categorical\n",
    "\n",
    "# Preparing the dataset\n",
    "# Setup train and test splits\n",
    "(training_images, training_labels), (test_images, test_labels) = mnist.load_data()\n",
    "\n",
    "\n",
    "# 28 x 28 = 784, because that's the dimensions of the MNIST data.\n",
    "image_size = 784\n",
    "\n",
    "# Reshaping the training_images and test_images to lists of vectors with length 784\n",
    "# instead of lists of 2D arrays. Same for the test_images\n",
    "training_data = training_images.reshape(training_images.shape[0], image_size) \n",
    "test_data = test_images.reshape(test_images.shape[0], image_size)\n",
    "\n",
    "# [\n",
    "#     [1,2,3]\n",
    "#     [4,5,6]\n",
    "# ]\n",
    "\n",
    "# => [1,2,3,4,5,6]\n",
    "\n",
    "# Just showing the changes...\n",
    "print(\"training data: \", training_images.shape, \" ==> \", training_data.shape)\n",
    "print(\"test data: \", test_images.shape, \" ==> \", test_data.shape)"
   ]
  },
  {
   "cell_type": "code",
   "execution_count": 4,
   "metadata": {},
   "outputs": [],
   "source": [
    "# Create 1-hot encoded vectors using to_categorical\n",
    "num_classes = 10 # Because it's how many digits we have (0-9) \n",
    "\n",
    "# to_categorical takes a list of integers (our labels) and makes them into 1-hot vectors\n",
    "training_labels = to_categorical(training_labels, num_classes)\n",
    "test_labels = to_categorical(test_labels, num_classes)"
   ]
  },
  {
   "cell_type": "code",
   "execution_count": 5,
   "metadata": {},
   "outputs": [
    {
     "name": "stdout",
     "output_type": "stream",
     "text": [
      "[0. 0. 0. 0. 0. 1. 0. 0. 0. 0.]\n"
     ]
    }
   ],
   "source": [
    "# Recall that before this transformation, training_labels[0] was the value 5. Look now:\n",
    "print(training_labels[0])"
   ]
  },
  {
   "cell_type": "code",
   "execution_count": 6,
   "metadata": {},
   "outputs": [
    {
     "name": "stdout",
     "output_type": "stream",
     "text": [
      "Model: \"sequential\"\n",
      "_________________________________________________________________\n",
      "Layer (type)                 Output Shape              Param #   \n",
      "=================================================================\n",
      "dense (Dense)                (None, 30)                23550     \n",
      "_________________________________________________________________\n",
      "leaky_re_lu (LeakyReLU)      (None, 30)                0         \n",
      "_________________________________________________________________\n",
      "dense_1 (Dense)              (None, 30)                930       \n",
      "_________________________________________________________________\n",
      "leaky_re_lu_1 (LeakyReLU)    (None, 30)                0         \n",
      "_________________________________________________________________\n",
      "dense_2 (Dense)              (None, 30)                930       \n",
      "_________________________________________________________________\n",
      "leaky_re_lu_2 (LeakyReLU)    (None, 30)                0         \n",
      "_________________________________________________________________\n",
      "dense_3 (Dense)              (None, 30)                930       \n",
      "_________________________________________________________________\n",
      "leaky_re_lu_3 (LeakyReLU)    (None, 30)                0         \n",
      "_________________________________________________________________\n",
      "dense_4 (Dense)              (None, 30)                930       \n",
      "_________________________________________________________________\n",
      "leaky_re_lu_4 (LeakyReLU)    (None, 30)                0         \n",
      "_________________________________________________________________\n",
      "dense_5 (Dense)              (None, 30)                930       \n",
      "_________________________________________________________________\n",
      "leaky_re_lu_5 (LeakyReLU)    (None, 30)                0         \n",
      "_________________________________________________________________\n",
      "dense_6 (Dense)              (None, 30)                930       \n",
      "_________________________________________________________________\n",
      "leaky_re_lu_6 (LeakyReLU)    (None, 30)                0         \n",
      "_________________________________________________________________\n",
      "dense_7 (Dense)              (None, 30)                930       \n",
      "_________________________________________________________________\n",
      "leaky_re_lu_7 (LeakyReLU)    (None, 30)                0         \n",
      "_________________________________________________________________\n",
      "dense_8 (Dense)              (None, 30)                930       \n",
      "_________________________________________________________________\n",
      "leaky_re_lu_8 (LeakyReLU)    (None, 30)                0         \n",
      "_________________________________________________________________\n",
      "dense_9 (Dense)              (None, 30)                930       \n",
      "_________________________________________________________________\n",
      "leaky_re_lu_9 (LeakyReLU)    (None, 30)                0         \n",
      "_________________________________________________________________\n",
      "dense_10 (Dense)             (None, 10)                310       \n",
      "=================================================================\n",
      "Total params: 32,230\n",
      "Trainable params: 32,230\n",
      "Non-trainable params: 0\n",
      "_________________________________________________________________\n"
     ]
    }
   ],
   "source": [
    "from tensorflow.keras.models import Sequential\n",
    "from tensorflow.keras.layers import Dense\n",
    "# Using Leakly ReLU is slightly different in Keras, which can be annoying.\n",
    "# Additionally, Keras allows us to choose any slope we want for the \"leaky\" part\n",
    "# rather than being statically 0.01 as in the above two functions. \n",
    "from tensorflow.keras.layers import LeakyReLU\n",
    "\n",
    "# Sequential models are a series of layers applied linearly.\n",
    "medium_model = Sequential()\n",
    "# The first layer must specify it's input_shape.\n",
    "# This is how the first two layers are added, the input layer and the hidden layer.\n",
    "medium_model.add(Dense(units=30, input_shape=(image_size,)))\n",
    "medium_model.add(LeakyReLU(alpha=.1))\n",
    "\n",
    "medium_model.add(Dense(units=30))\n",
    "medium_model.add(LeakyReLU(alpha=.09))\n",
    "\n",
    "medium_model.add(Dense(units=30))\n",
    "medium_model.add(LeakyReLU(alpha=.08))\n",
    "\n",
    "medium_model.add(Dense(units=30))\n",
    "medium_model.add(LeakyReLU(alpha=.07))\n",
    "\n",
    "medium_model.add(Dense(units=30))\n",
    "medium_model.add(LeakyReLU(alpha=.06))\n",
    "\n",
    "medium_model.add(Dense(units=30))\n",
    "medium_model.add(LeakyReLU(alpha=.05))\n",
    "\n",
    "medium_model.add(Dense(units=30))\n",
    "medium_model.add(LeakyReLU(alpha=.04))\n",
    "\n",
    "medium_model.add(Dense(units=30))\n",
    "medium_model.add(LeakyReLU(alpha=.03))\n",
    "\n",
    "medium_model.add(Dense(units=30))\n",
    "medium_model.add(LeakyReLU(alpha=.02))\n",
    "\n",
    "medium_model.add(Dense(units=30))\n",
    "medium_model.add(LeakyReLU(alpha=.01))\n",
    "\n",
    "# This is how the output layer gets added, the 'softmax' activation function ensures\n",
    "# that the sum of the values in the output nodes is 1. Softmax is very\n",
    "# common in classification networks. \n",
    "medium_model.add(Dense(units=num_classes, activation='softmax'))\n",
    "# This function provides useful text data for our network\n",
    "medium_model.summary()"
   ]
  },
  {
   "cell_type": "markdown",
   "metadata": {},
   "source": [
    "Compiling and training the model\n"
   ]
  },
  {
   "cell_type": "code",
   "execution_count": 7,
   "metadata": {},
   "outputs": [
    {
     "name": "stdout",
     "output_type": "stream",
     "text": [
      "Train on 54000 samples, validate on 6000 samples\n",
      "Epoch 1/30\n",
      "54000/54000 [==============================] - 3s 53us/sample - loss: 1.0345 - accuracy: 0.6575 - val_loss: 0.4238 - val_accuracy: 0.8737\n",
      "Epoch 2/30\n",
      "54000/54000 [==============================] - 2s 39us/sample - loss: 0.4271 - accuracy: 0.8736 - val_loss: 0.2843 - val_accuracy: 0.9188\n",
      "Epoch 3/30\n",
      "54000/54000 [==============================] - 2s 39us/sample - loss: 0.3230 - accuracy: 0.9077 - val_loss: 0.2804 - val_accuracy: 0.9167\n",
      "Epoch 4/30\n",
      "54000/54000 [==============================] - 2s 39us/sample - loss: 0.2740 - accuracy: 0.9202 - val_loss: 0.2247 - val_accuracy: 0.9370\n",
      "Epoch 5/30\n",
      "54000/54000 [==============================] - 2s 40us/sample - loss: 0.2404 - accuracy: 0.9304 - val_loss: 0.2200 - val_accuracy: 0.9385\n",
      "Epoch 6/30\n",
      "54000/54000 [==============================] - 2s 39us/sample - loss: 0.2185 - accuracy: 0.9363 - val_loss: 0.1784 - val_accuracy: 0.9485\n",
      "Epoch 7/30\n",
      "54000/54000 [==============================] - 2s 38us/sample - loss: 0.1987 - accuracy: 0.9422 - val_loss: 0.2036 - val_accuracy: 0.9413\n",
      "Epoch 8/30\n",
      "54000/54000 [==============================] - 2s 40us/sample - loss: 0.1875 - accuracy: 0.9454 - val_loss: 0.1693 - val_accuracy: 0.9530\n",
      "Epoch 9/30\n",
      "54000/54000 [==============================] - 2s 42us/sample - loss: 0.1731 - accuracy: 0.9492 - val_loss: 0.1585 - val_accuracy: 0.9542\n",
      "Epoch 10/30\n",
      "54000/54000 [==============================] - 2s 39us/sample - loss: 0.1635 - accuracy: 0.9503 - val_loss: 0.1592 - val_accuracy: 0.9538\n",
      "Epoch 11/30\n",
      "54000/54000 [==============================] - 2s 39us/sample - loss: 0.1563 - accuracy: 0.9530 - val_loss: 0.1557 - val_accuracy: 0.9588\n",
      "Epoch 12/30\n",
      "54000/54000 [==============================] - 2s 39us/sample - loss: 0.1488 - accuracy: 0.9560 - val_loss: 0.1512 - val_accuracy: 0.9585\n",
      "Epoch 13/30\n",
      "54000/54000 [==============================] - 2s 38us/sample - loss: 0.1416 - accuracy: 0.9580 - val_loss: 0.1715 - val_accuracy: 0.9535\n",
      "Epoch 14/30\n",
      "54000/54000 [==============================] - 2s 39us/sample - loss: 0.1364 - accuracy: 0.9598 - val_loss: 0.1527 - val_accuracy: 0.9580\n",
      "Epoch 15/30\n",
      "54000/54000 [==============================] - 2s 39us/sample - loss: 0.1312 - accuracy: 0.9607 - val_loss: 0.1487 - val_accuracy: 0.9588\n",
      "Epoch 16/30\n",
      "54000/54000 [==============================] - 2s 39us/sample - loss: 0.1260 - accuracy: 0.9624 - val_loss: 0.1583 - val_accuracy: 0.9582\n",
      "Epoch 17/30\n",
      "54000/54000 [==============================] - 2s 39us/sample - loss: 0.1246 - accuracy: 0.9626 - val_loss: 0.1495 - val_accuracy: 0.9605\n",
      "Epoch 18/30\n",
      "54000/54000 [==============================] - 2s 40us/sample - loss: 0.1194 - accuracy: 0.9645 - val_loss: 0.1448 - val_accuracy: 0.9607\n",
      "Epoch 19/30\n",
      "54000/54000 [==============================] - 2s 41us/sample - loss: 0.1129 - accuracy: 0.9659 - val_loss: 0.1559 - val_accuracy: 0.9582\n",
      "Epoch 20/30\n",
      "54000/54000 [==============================] - 2s 43us/sample - loss: 0.1100 - accuracy: 0.9675 - val_loss: 0.1399 - val_accuracy: 0.9618\n",
      "Epoch 21/30\n",
      "54000/54000 [==============================] - 2s 43us/sample - loss: 0.1058 - accuracy: 0.9679 - val_loss: 0.1470 - val_accuracy: 0.9605\n",
      "Epoch 22/30\n",
      "54000/54000 [==============================] - 2s 41us/sample - loss: 0.1016 - accuracy: 0.9694 - val_loss: 0.1396 - val_accuracy: 0.9628\n",
      "Epoch 23/30\n",
      "54000/54000 [==============================] - 2s 40us/sample - loss: 0.0992 - accuracy: 0.9702 - val_loss: 0.1435 - val_accuracy: 0.9622\n",
      "Epoch 24/30\n",
      "54000/54000 [==============================] - 2s 39us/sample - loss: 0.0984 - accuracy: 0.9706 - val_loss: 0.1515 - val_accuracy: 0.9613\n",
      "Epoch 25/30\n",
      "54000/54000 [==============================] - 2s 41us/sample - loss: 0.0946 - accuracy: 0.9713 - val_loss: 0.1503 - val_accuracy: 0.9590\n",
      "Epoch 26/30\n",
      "54000/54000 [==============================] - 2s 44us/sample - loss: 0.0915 - accuracy: 0.9723 - val_loss: 0.1538 - val_accuracy: 0.9608\n",
      "Epoch 27/30\n",
      "54000/54000 [==============================] - 2s 40us/sample - loss: 0.0926 - accuracy: 0.9718 - val_loss: 0.1400 - val_accuracy: 0.9633\n",
      "Epoch 28/30\n",
      "54000/54000 [==============================] - 2s 41us/sample - loss: 0.0869 - accuracy: 0.9739 - val_loss: 0.1554 - val_accuracy: 0.9625\n",
      "Epoch 29/30\n",
      "54000/54000 [==============================] - 2s 41us/sample - loss: 0.0857 - accuracy: 0.9741 - val_loss: 0.1425 - val_accuracy: 0.9658\n",
      "Epoch 30/30\n",
      "54000/54000 [==============================] - 2s 41us/sample - loss: 0.0826 - accuracy: 0.9746 - val_loss: 0.1475 - val_accuracy: 0.9627\n"
     ]
    }
   ],
   "source": [
    "# sgd stands for stochastic gradient descent.\n",
    "# categorical_crossentropy is a common loss function used for categorical classification.\n",
    "# accuracy is the percent of predictions that were correct.\n",
    "medium_model.compile(optimizer=\"sgd\", loss='categorical_crossentropy', metrics=['accuracy'])\n",
    "\n",
    "# The network will make predictions for 128 flattened images per correction.\n",
    "# It will make a prediction on each item in the training set 5 times (5 epochs)\n",
    "# And 10% of the data will be used as validation data.\n",
    "history = medium_model.fit(training_data, training_labels, batch_size=128, epochs=30, verbose=True, validation_split=.1)"
   ]
  },
  {
   "cell_type": "markdown",
   "metadata": {},
   "source": [
    "Evaluating our model"
   ]
  },
  {
   "cell_type": "code",
   "execution_count": 8,
   "metadata": {},
   "outputs": [
    {
     "name": "stdout",
     "output_type": "stream",
     "text": [
      "10000/10000 [==============================] - 1s 121us/sample - loss: 0.1822 - accuracy: 0.9536\n"
     ]
    },
    {
     "data": {
      "image/png": "[encoded data removed]",
      "text/plain": [
       "<Figure size 432x288 with 1 Axes>"
      ]
     },
     "metadata": {
      "needs_background": "light"
     },
     "output_type": "display_data"
    },
    {
     "data": {
      "image/png": "[encoded data removed]",
      "text/plain": [
       "<Figure size 432x288 with 1 Axes>"
      ]
     },
     "metadata": {
      "needs_background": "light"
     },
     "output_type": "display_data"
    },
    {
     "name": "stdout",
     "output_type": "stream",
     "text": [
      "Test loss: 0.182\n",
      "Test accuracy: 0.954\n",
      "[0.65746295, 0.8735741, 0.9077407, 0.92024076, 0.93038887, 0.9362963, 0.9422407, 0.94535184, 0.94916666, 0.95025927, 0.95301855, 0.95596296, 0.95801854, 0.95975924, 0.96074075, 0.9623704, 0.96261114, 0.96446294, 0.9658889, 0.96753705, 0.9678889, 0.9694259, 0.97022223, 0.97064817, 0.9713333, 0.9722593, 0.97175926, 0.9739074, 0.9740555, 0.97462964]\n",
      "[0.87366664, 0.9188333, 0.9166667, 0.937, 0.9385, 0.9485, 0.94133335, 0.953, 0.95416665, 0.95383334, 0.95883334, 0.9585, 0.9535, 0.958, 0.95883334, 0.95816666, 0.9605, 0.96066666, 0.95816666, 0.96183336, 0.9605, 0.96283334, 0.96216667, 0.96133333, 0.959, 0.9608333, 0.9633333, 0.9625, 0.9658333, 0.9626667]\n"
     ]
    }
   ],
   "source": [
    "loss, accuracy = medium_model.evaluate(test_data, test_labels, verbose=True)\n",
    "\n",
    "plt.plot(history.history['accuracy'])\n",
    "plt.plot(history.history['val_accuracy'])\n",
    "plt.title('model accuracy')\n",
    "plt.ylabel('accuracy')\n",
    "plt.xlabel('epoch')\n",
    "plt.legend(['training', 'validation'], loc='best')\n",
    "\n",
    "plt.show()\n",
    "\n",
    "plt.plot(history.history['loss'])\n",
    "plt.plot(history.history['val_loss'])\n",
    "plt.title('model loss')\n",
    "plt.ylabel('loss')\n",
    "plt.xlabel('epoch')\n",
    "plt.legend(['training', 'validation'], loc='best')\n",
    "\n",
    "plt.show()\n",
    "\n",
    "print(f'Test loss: {loss:.3}')\n",
    "print(f'Test accuracy: {accuracy:.3}')\n",
    "print(history.history['accuracy'])\n",
    "print(history.history['val_accuracy'])"
   ]
  },
  {
   "cell_type": "markdown",
   "metadata": {},
   "source": [
    "Look at specific results"
   ]
  },
  {
   "cell_type": "code",
   "execution_count": 9,
   "metadata": {},
   "outputs": [],
   "source": [
    "from numpy import argmax\n",
    "\n",
    "# Predicting once, then we can use these repeatedly in the next cell without recomputing the predictions.\n",
    "predictions = medium_model.predict(test_data)\n",
    "\n",
    "# For pagination & style in second cell\n",
    "page = 0\n",
    "fontdict = {'color': 'black'}"
   ]
  },
  {
   "cell_type": "code",
   "execution_count": 10,
   "metadata": {},
   "outputs": [
    {
     "data": {
      "image/png": "[encoded data removed]",
      "text/plain": [
       "<Figure size 432x288 with 16 Axes>"
      ]
     },
     "metadata": {
      "needs_background": "light"
     },
     "output_type": "display_data"
    }
   ],
   "source": [
    "# Repeatedly running this cell will page through the predictions\n",
    "for i in range(16):\n",
    "    ax = plt.subplot(4, 4, i+1)\n",
    "    ax.axis('off')\n",
    "    plt.imshow(test_images[i + page], cmap='Greys')\n",
    "    prediction = argmax(predictions[i + page])\n",
    "    true_value = argmax(test_labels[i + page])\n",
    "\n",
    "    fontdict['color'] = 'black' if prediction == true_value else 'red'\n",
    "    plt.title(\"{}, {}\".format(prediction, true_value), fontdict=fontdict)\n",
    "\n",
    "page += 16\n",
    "plt.tight_layout()\n",
    "plt.show()"
   ]
  },
  {
   "cell_type": "code",
   "execution_count": null,
   "metadata": {},
   "outputs": [],
   "source": []
  }
 ],
 "metadata": {
  "kernelspec": {
   "display_name": "Python 3",
   "language": "python",
   "name": "python3"
  },
  "language_info": {
   "codemirror_mode": {
    "name": "ipython",
    "version": 3
   },
   "file_extension": ".py",
   "mimetype": "text/x-python",
   "name": "python",
   "nbconvert_exporter": "python",
   "pygments_lexer": "ipython3",
   "version": "3.7.7"
  }
 },
 "nbformat": 4,
 "nbformat_minor": 4
}
