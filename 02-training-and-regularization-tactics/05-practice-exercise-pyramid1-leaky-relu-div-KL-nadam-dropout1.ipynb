{
 "cells": [
  {
   "cell_type": "markdown",
   "metadata": {},
   "source": [
    "Importing and formatting data\n",
    "\n",
    "Import MNIST dataset of 60,000 training images and 10,000 testing images"
   ]
  },
  {
   "cell_type": "code",
   "execution_count": 1,
   "metadata": {},
   "outputs": [
    {
     "name": "stdout",
     "output_type": "stream",
     "text": [
      "60000 (28, 28)\n",
      "60000 5\n"
     ]
    }
   ],
   "source": [
    "import tensorflow as tf\n",
    "physical_devices = tf.config.list_physical_devices('GPU') \n",
    "tf.config.experimental.set_memory_growth(physical_devices[0], True)\n",
    "\n",
    "# For drawing the MNIST digits as well as plots to help us evaluate performance we\n",
    "# will make extensive use of matplotlib\n",
    "from matplotlib import pyplot as plt\n",
    "\n",
    "# All of the Keras datasets are in keras.datasets\n",
    "from tensorflow.keras.datasets import mnist\n",
    "\n",
    "# Keras has already split the data into training and test data\n",
    "(training_images, training_labels), (test_images, test_labels) = mnist.load_data()\n",
    "\n",
    "# Training images is a list of 60,000 2D lists.\n",
    "# Each 2D list is 28 by 28—the size of the MNIST pixel data.\n",
    "# Each item in the 2D array is an integer from 0 to 255 representing its grayscale\n",
    "# intensity where 0 means white, 255 means black.\n",
    "print(len(training_images), training_images[0].shape)\n",
    "\n",
    "# training_labels are a value between 0 and 9 indicating which digit is represented.\n",
    "# The first item in the training data is a 5\n",
    "print(len(training_labels), training_labels[0])\n"
   ]
  },
  {
   "cell_type": "markdown",
   "metadata": {},
   "source": [
    "Visualize the first 100 images in the dataset"
   ]
  },
  {
   "cell_type": "code",
   "execution_count": 2,
   "metadata": {},
   "outputs": [
    {
     "data": {
      "image/png": "[encoded data removed]",
      "text/plain": [
       "<Figure size 432x288 with 100 Axes>"
      ]
     },
     "metadata": {
      "needs_background": "light"
     },
     "output_type": "display_data"
    }
   ],
   "source": [
    "# Lets visualize the first 100 images from the dataset\n",
    "for i in range(100):\n",
    "    ax = plt.subplot(10, 10, i+1)\n",
    "    ax.axis('off')\n",
    "    plt.imshow(training_images[i], cmap='Greys')"
   ]
  },
  {
   "cell_type": "markdown",
   "metadata": {},
   "source": [
    "Fixing the data format: using `numpy.reshape` and `keras.util.to_categorical`"
   ]
  },
  {
   "cell_type": "code",
   "execution_count": 3,
   "metadata": {},
   "outputs": [
    {
     "name": "stdout",
     "output_type": "stream",
     "text": [
      "training data:  (60000, 28, 28)  ==>  (60000, 784)\n",
      "test data:  (10000, 28, 28)  ==>  (10000, 784)\n"
     ]
    }
   ],
   "source": [
    "from tensorflow.keras.utils import to_categorical\n",
    "\n",
    "# Preparing the dataset\n",
    "# Setup train and test splits\n",
    "(training_images, training_labels), (test_images, test_labels) = mnist.load_data()\n",
    "\n",
    "\n",
    "# 28 x 28 = 784, because that's the dimensions of the MNIST data.\n",
    "image_size = 784\n",
    "\n",
    "# Reshaping the training_images and test_images to lists of vectors with length 784\n",
    "# instead of lists of 2D arrays. Same for the test_images\n",
    "training_data = training_images.reshape(training_images.shape[0], image_size) \n",
    "test_data = test_images.reshape(test_images.shape[0], image_size)\n",
    "\n",
    "# [\n",
    "#     [1,2,3]\n",
    "#     [4,5,6]\n",
    "# ]\n",
    "\n",
    "# => [1,2,3,4,5,6]\n",
    "\n",
    "# Just showing the changes...\n",
    "print(\"training data: \", training_images.shape, \" ==> \", training_data.shape)\n",
    "print(\"test data: \", test_images.shape, \" ==> \", test_data.shape)"
   ]
  },
  {
   "cell_type": "code",
   "execution_count": 4,
   "metadata": {},
   "outputs": [],
   "source": [
    "# Create 1-hot encoded vectors using to_categorical\n",
    "num_classes = 10 # Because it's how many digits we have (0-9) \n",
    "\n",
    "# to_categorical takes a list of integers (our labels) and makes them into 1-hot vectors\n",
    "training_labels = to_categorical(training_labels, num_classes)\n",
    "test_labels = to_categorical(test_labels, num_classes)"
   ]
  },
  {
   "cell_type": "code",
   "execution_count": 5,
   "metadata": {},
   "outputs": [
    {
     "name": "stdout",
     "output_type": "stream",
     "text": [
      "[0. 0. 0. 0. 0. 1. 0. 0. 0. 0.]\n"
     ]
    }
   ],
   "source": [
    "# Recall that before this transformation, training_labels[0] was the value 5. Look now:\n",
    "print(training_labels[0])"
   ]
  },
  {
   "cell_type": "code",
   "execution_count": 6,
   "metadata": {},
   "outputs": [
    {
     "name": "stdout",
     "output_type": "stream",
     "text": [
      "Model: \"sequential\"\n",
      "_________________________________________________________________\n",
      "Layer (type)                 Output Shape              Param #   \n",
      "=================================================================\n",
      "dense (Dense)                (None, 30)                23550     \n",
      "_________________________________________________________________\n",
      "leaky_re_lu (LeakyReLU)      (None, 30)                0         \n",
      "_________________________________________________________________\n",
      "dense_1 (Dense)              (None, 20)                620       \n",
      "_________________________________________________________________\n",
      "leaky_re_lu_1 (LeakyReLU)    (None, 20)                0         \n",
      "_________________________________________________________________\n",
      "dropout (Dropout)            (None, 20)                0         \n",
      "_________________________________________________________________\n",
      "dense_2 (Dense)              (None, 21)                441       \n",
      "_________________________________________________________________\n",
      "leaky_re_lu_2 (LeakyReLU)    (None, 21)                0         \n",
      "_________________________________________________________________\n",
      "dropout_1 (Dropout)          (None, 21)                0         \n",
      "_________________________________________________________________\n",
      "dense_3 (Dense)              (None, 22)                484       \n",
      "_________________________________________________________________\n",
      "leaky_re_lu_3 (LeakyReLU)    (None, 22)                0         \n",
      "_________________________________________________________________\n",
      "dropout_2 (Dropout)          (None, 22)                0         \n",
      "_________________________________________________________________\n",
      "dense_4 (Dense)              (None, 23)                529       \n",
      "_________________________________________________________________\n",
      "leaky_re_lu_4 (LeakyReLU)    (None, 23)                0         \n",
      "_________________________________________________________________\n",
      "dropout_3 (Dropout)          (None, 23)                0         \n",
      "_________________________________________________________________\n",
      "dense_5 (Dense)              (None, 25)                600       \n",
      "_________________________________________________________________\n",
      "leaky_re_lu_5 (LeakyReLU)    (None, 25)                0         \n",
      "_________________________________________________________________\n",
      "dropout_4 (Dropout)          (None, 25)                0         \n",
      "_________________________________________________________________\n",
      "dense_6 (Dense)              (None, 30)                780       \n",
      "_________________________________________________________________\n",
      "leaky_re_lu_6 (LeakyReLU)    (None, 30)                0         \n",
      "_________________________________________________________________\n",
      "dropout_5 (Dropout)          (None, 30)                0         \n",
      "_________________________________________________________________\n",
      "dense_7 (Dense)              (None, 10)                310       \n",
      "=================================================================\n",
      "Total params: 27,314\n",
      "Trainable params: 27,314\n",
      "Non-trainable params: 0\n",
      "_________________________________________________________________\n"
     ]
    }
   ],
   "source": [
    "from tensorflow.keras.models import Sequential\n",
    "from tensorflow.keras.layers import Dense, Dropout\n",
    "# Using Leakly ReLU is slightly different in Keras, which can be annoying.\n",
    "# Additionally, Keras allows us to choose any slope we want for the \"leaky\" part\n",
    "# rather than being statically 0.01 as in the above two functions. \n",
    "from tensorflow.keras.layers import LeakyReLU\n",
    "\n",
    "# Sequential models are a series of layers applied linearly.\n",
    "medium_model = Sequential()\n",
    "# The first layer must specify it's input_shape.\n",
    "# This is how the first two layers are added, the input layer and the hidden layer.\n",
    "medium_model.add(Dense(units=30, input_shape=(image_size,)))\n",
    "medium_model.add(LeakyReLU(alpha=.1))\n",
    "\n",
    "medium_model.add(Dense(units=20))\n",
    "medium_model.add(LeakyReLU(alpha=.09))\n",
    "medium_model.add(Dropout(rate=0.2))\n",
    "\n",
    "medium_model.add(Dense(units=21))\n",
    "medium_model.add(LeakyReLU(alpha=.08))\n",
    "medium_model.add(Dropout(rate=0.1))\n",
    "\n",
    "medium_model.add(Dense(units=22))\n",
    "medium_model.add(LeakyReLU(alpha=.07))\n",
    "medium_model.add(Dropout(rate=0.05))\n",
    "\n",
    "medium_model.add(Dense(units=23))\n",
    "medium_model.add(LeakyReLU(alpha=.06))\n",
    "medium_model.add(Dropout(rate=0.05))\n",
    "\n",
    "medium_model.add(Dense(units=25))\n",
    "medium_model.add(LeakyReLU(alpha=.05))\n",
    "medium_model.add(Dropout(rate=0.05))\n",
    "\n",
    "medium_model.add(Dense(units=30))\n",
    "medium_model.add(LeakyReLU(alpha=.04))\n",
    "medium_model.add(Dropout(rate=0.05))\n",
    "\n",
    "\n",
    "# This is how the output layer gets added, the 'softmax' activation function ensures\n",
    "# that the sum of the values in the output nodes is 1. Softmax is very\n",
    "# common in classification networks. \n",
    "medium_model.add(Dense(units=num_classes, activation='softmax'))\n",
    "# This function provides useful text data for our network\n",
    "medium_model.summary()"
   ]
  },
  {
   "cell_type": "markdown",
   "metadata": {},
   "source": [
    "Compiling and training the model\n"
   ]
  },
  {
   "cell_type": "code",
   "execution_count": 7,
   "metadata": {},
   "outputs": [
    {
     "name": "stdout",
     "output_type": "stream",
     "text": [
      "Train on 54000 samples, validate on 6000 samples\n",
      "Epoch 1/50\n",
      "54000/54000 [==============================] - 7s 128us/sample - loss: 1.6937 - accuracy: 0.4771 - val_loss: 0.6236 - val_accuracy: 0.8255\n",
      "Epoch 2/50\n",
      "54000/54000 [==============================] - 5s 97us/sample - loss: 0.7647 - accuracy: 0.7546 - val_loss: 0.3525 - val_accuracy: 0.9078\n",
      "Epoch 3/50\n",
      "54000/54000 [==============================] - 5s 98us/sample - loss: 0.5496 - accuracy: 0.8337 - val_loss: 0.2764 - val_accuracy: 0.9258\n",
      "Epoch 4/50\n",
      "54000/54000 [==============================] - 6s 112us/sample - loss: 0.4572 - accuracy: 0.8669 - val_loss: 0.2445 - val_accuracy: 0.9357\n",
      "Epoch 5/50\n",
      "54000/54000 [==============================] - 6s 117us/sample - loss: 0.3907 - accuracy: 0.8890 - val_loss: 0.2305 - val_accuracy: 0.9405\n",
      "Epoch 6/50\n",
      "54000/54000 [==============================] - 6s 114us/sample - loss: 0.3477 - accuracy: 0.9049 - val_loss: 0.2112 - val_accuracy: 0.9442\n",
      "Epoch 7/50\n",
      "54000/54000 [==============================] - 6s 112us/sample - loss: 0.3143 - accuracy: 0.9129 - val_loss: 0.1878 - val_accuracy: 0.9532\n",
      "Epoch 8/50\n",
      "54000/54000 [==============================] - 5s 96us/sample - loss: 0.2910 - accuracy: 0.9222 - val_loss: 0.1893 - val_accuracy: 0.9500\n",
      "Epoch 9/50\n",
      "54000/54000 [==============================] - 6s 102us/sample - loss: 0.2687 - accuracy: 0.9266 - val_loss: 0.1740 - val_accuracy: 0.9558\n",
      "Epoch 10/50\n",
      "54000/54000 [==============================] - 5s 100us/sample - loss: 0.2502 - accuracy: 0.9340 - val_loss: 0.1667 - val_accuracy: 0.9550\n",
      "Epoch 11/50\n",
      "54000/54000 [==============================] - 7s 124us/sample - loss: 0.2411 - accuracy: 0.9356 - val_loss: 0.1625 - val_accuracy: 0.9557\n",
      "Epoch 12/50\n",
      "54000/54000 [==============================] - 7s 124us/sample - loss: 0.2280 - accuracy: 0.9390 - val_loss: 0.1637 - val_accuracy: 0.9557\n",
      "Epoch 13/50\n",
      "54000/54000 [==============================] - 5s 102us/sample - loss: 0.2152 - accuracy: 0.9428 - val_loss: 0.1519 - val_accuracy: 0.9593\n",
      "Epoch 14/50\n",
      "54000/54000 [==============================] - 6s 102us/sample - loss: 0.2085 - accuracy: 0.9446 - val_loss: 0.1512 - val_accuracy: 0.9602\n",
      "Epoch 15/50\n",
      "54000/54000 [==============================] - 7s 121us/sample - loss: 0.2000 - accuracy: 0.9463 - val_loss: 0.1488 - val_accuracy: 0.9607\n",
      "Epoch 16/50\n",
      "54000/54000 [==============================] - 6s 112us/sample - loss: 0.1927 - accuracy: 0.9486 - val_loss: 0.1532 - val_accuracy: 0.9600\n",
      "Epoch 17/50\n",
      "54000/54000 [==============================] - 6s 112us/sample - loss: 0.1871 - accuracy: 0.9500 - val_loss: 0.1374 - val_accuracy: 0.9643\n",
      "Epoch 18/50\n",
      "54000/54000 [==============================] - 6s 117us/sample - loss: 0.1727 - accuracy: 0.9535 - val_loss: 0.1534 - val_accuracy: 0.9635\n",
      "Epoch 19/50\n",
      "54000/54000 [==============================] - 6s 106us/sample - loss: 0.1751 - accuracy: 0.9529 - val_loss: 0.1485 - val_accuracy: 0.9623\n",
      "Epoch 20/50\n",
      "54000/54000 [==============================] - 5s 102us/sample - loss: 0.1717 - accuracy: 0.9546 - val_loss: 0.1497 - val_accuracy: 0.9622\n",
      "Epoch 21/50\n",
      "54000/54000 [==============================] - 6s 106us/sample - loss: 0.1646 - accuracy: 0.9561 - val_loss: 0.1425 - val_accuracy: 0.9650\n",
      "Epoch 22/50\n",
      "54000/54000 [==============================] - 6s 103us/sample - loss: 0.1612 - accuracy: 0.9576 - val_loss: 0.1459 - val_accuracy: 0.9653\n",
      "Epoch 23/50\n",
      "54000/54000 [==============================] - 6s 103us/sample - loss: 0.1568 - accuracy: 0.9578 - val_loss: 0.1415 - val_accuracy: 0.9662\n",
      "Epoch 24/50\n",
      "54000/54000 [==============================] - 5s 95us/sample - loss: 0.1533 - accuracy: 0.9582 - val_loss: 0.1569 - val_accuracy: 0.9617\n",
      "Epoch 25/50\n",
      "54000/54000 [==============================] - 5s 99us/sample - loss: 0.1535 - accuracy: 0.9586 - val_loss: 0.1417 - val_accuracy: 0.9618\n",
      "Epoch 26/50\n",
      "54000/54000 [==============================] - 7s 130us/sample - loss: 0.1474 - accuracy: 0.9609 - val_loss: 0.1413 - val_accuracy: 0.9653\n",
      "Epoch 27/50\n",
      "54000/54000 [==============================] - 6s 113us/sample - loss: 0.1463 - accuracy: 0.9610 - val_loss: 0.1401 - val_accuracy: 0.9653\n",
      "Epoch 28/50\n",
      "54000/54000 [==============================] - 6s 114us/sample - loss: 0.1438 - accuracy: 0.9604 - val_loss: 0.1366 - val_accuracy: 0.9690\n",
      "Epoch 29/50\n",
      "54000/54000 [==============================] - 6s 120us/sample - loss: 0.1411 - accuracy: 0.9621 - val_loss: 0.1465 - val_accuracy: 0.9665\n",
      "Epoch 30/50\n",
      "54000/54000 [==============================] - 6s 114us/sample - loss: 0.1381 - accuracy: 0.9620 - val_loss: 0.1411 - val_accuracy: 0.9667\n",
      "Epoch 31/50\n",
      "54000/54000 [==============================] - 6s 115us/sample - loss: 0.1337 - accuracy: 0.9637 - val_loss: 0.1378 - val_accuracy: 0.9657\n",
      "Epoch 32/50\n",
      "54000/54000 [==============================] - 6s 112us/sample - loss: 0.1288 - accuracy: 0.9649 - val_loss: 0.1516 - val_accuracy: 0.9635\n",
      "Epoch 33/50\n",
      "54000/54000 [==============================] - 6s 119us/sample - loss: 0.1275 - accuracy: 0.9656 - val_loss: 0.1461 - val_accuracy: 0.9662\n",
      "Epoch 34/50\n",
      "54000/54000 [==============================] - 7s 128us/sample - loss: 0.1281 - accuracy: 0.9651 - val_loss: 0.1430 - val_accuracy: 0.9663\n",
      "Epoch 35/50\n",
      "54000/54000 [==============================] - 7s 122us/sample - loss: 0.1292 - accuracy: 0.9643 - val_loss: 0.1403 - val_accuracy: 0.9665\n",
      "Epoch 36/50\n",
      "54000/54000 [==============================] - 5s 100us/sample - loss: 0.1266 - accuracy: 0.9649 - val_loss: 0.1545 - val_accuracy: 0.9660\n",
      "Epoch 37/50\n",
      "54000/54000 [==============================] - 5s 99us/sample - loss: 0.1258 - accuracy: 0.9657 - val_loss: 0.1456 - val_accuracy: 0.9652\n",
      "Epoch 38/50\n",
      "54000/54000 [==============================] - 6s 111us/sample - loss: 0.1201 - accuracy: 0.9665 - val_loss: 0.1437 - val_accuracy: 0.9663\n",
      "Epoch 39/50\n",
      "54000/54000 [==============================] - 6s 114us/sample - loss: 0.1230 - accuracy: 0.9665 - val_loss: 0.1404 - val_accuracy: 0.9667\n",
      "Epoch 40/50\n",
      "54000/54000 [==============================] - 6s 107us/sample - loss: 0.1182 - accuracy: 0.9676 - val_loss: 0.1416 - val_accuracy: 0.9678\n",
      "Epoch 41/50\n",
      "54000/54000 [==============================] - 6s 107us/sample - loss: 0.1167 - accuracy: 0.9686 - val_loss: 0.1397 - val_accuracy: 0.9673\n",
      "Epoch 42/50\n",
      "54000/54000 [==============================] - 6s 105us/sample - loss: 0.1128 - accuracy: 0.9687 - val_loss: 0.1428 - val_accuracy: 0.9668\n",
      "Epoch 43/50\n",
      "54000/54000 [==============================] - 6s 111us/sample - loss: 0.1157 - accuracy: 0.9677 - val_loss: 0.1395 - val_accuracy: 0.9680\n",
      "Epoch 44/50\n",
      "54000/54000 [==============================] - 6s 111us/sample - loss: 0.1124 - accuracy: 0.9688 - val_loss: 0.1351 - val_accuracy: 0.9672\n",
      "Epoch 45/50\n",
      "54000/54000 [==============================] - 6s 112us/sample - loss: 0.1089 - accuracy: 0.9700 - val_loss: 0.1296 - val_accuracy: 0.9677\n",
      "Epoch 46/50\n",
      "54000/54000 [==============================] - 8s 141us/sample - loss: 0.1068 - accuracy: 0.9706 - val_loss: 0.1378 - val_accuracy: 0.9685\n",
      "Epoch 47/50\n",
      "54000/54000 [==============================] - 7s 138us/sample - loss: 0.1073 - accuracy: 0.9699 - val_loss: 0.1463 - val_accuracy: 0.9673\n",
      "Epoch 48/50\n",
      "54000/54000 [==============================] - 7s 139us/sample - loss: 0.1085 - accuracy: 0.9699 - val_loss: 0.1346 - val_accuracy: 0.9677\n",
      "Epoch 49/50\n",
      "54000/54000 [==============================] - 8s 139us/sample - loss: 0.1087 - accuracy: 0.9695 - val_loss: 0.1445 - val_accuracy: 0.9673\n",
      "Epoch 50/50\n",
      "54000/54000 [==============================] - 8s 143us/sample - loss: 0.1037 - accuracy: 0.9712 - val_loss: 0.1465 - val_accuracy: 0.9683\n"
     ]
    }
   ],
   "source": [
    "# sgd stands for stochastic gradient descent.\n",
    "# categorical_crossentropy is a common loss function used for categorical classification.\n",
    "# accuracy is the percent of predictions that were correct.\n",
    "medium_model.compile(optimizer=\"nadam\", loss='kullback_leibler_divergence', metrics=['accuracy'])\n",
    "\n",
    "# The network will make predictions for 128 flattened images per correction.\n",
    "# It will make a prediction on each item in the training set 5 times (5 epochs)\n",
    "# And 10% of the data will be used as validation data.\n",
    "history = medium_model.fit(training_data, training_labels, batch_size=128, epochs=50, verbose=True, validation_split=.1)"
   ]
  },
  {
   "cell_type": "markdown",
   "metadata": {},
   "source": [
    "Evaluating our model"
   ]
  },
  {
   "cell_type": "code",
   "execution_count": 8,
   "metadata": {},
   "outputs": [
    {
     "name": "stdout",
     "output_type": "stream",
     "text": [
      "10000/10000 [==============================] - 1s 92us/sample - loss: 0.1690 - accuracy: 0.9614\n"
     ]
    },
    {
     "data": {
      "image/png": "[encoded data removed]",
      "text/plain": [
       "<Figure size 432x288 with 1 Axes>"
      ]
     },
     "metadata": {
      "needs_background": "light"
     },
     "output_type": "display_data"
    },
    {
     "data": {
      "image/png": "[encoded data removed]",
      "text/plain": [
       "<Figure size 432x288 with 1 Axes>"
      ]
     },
     "metadata": {
      "needs_background": "light"
     },
     "output_type": "display_data"
    },
    {
     "name": "stdout",
     "output_type": "stream",
     "text": [
      "Test loss: 0.169\n",
      "Test accuracy: 0.961\n",
      "[0.47714815, 0.75464815, 0.83372223, 0.86687034, 0.888963, 0.9049074, 0.9129074, 0.9222222, 0.9265926, 0.934037, 0.93564814, 0.93896294, 0.9428333, 0.94457406, 0.9462778, 0.9485555, 0.949963, 0.9534815, 0.9528889, 0.95464814, 0.95614815, 0.95755553, 0.9578148, 0.95824075, 0.95864815, 0.96085185, 0.961, 0.9604259, 0.9621111, 0.9620185, 0.9636852, 0.96485186, 0.96559256, 0.96511114, 0.9642778, 0.96485186, 0.9657037, 0.96653706, 0.9665, 0.9676296, 0.96862966, 0.9686852, 0.9677037, 0.9687778, 0.9699815, 0.9706111, 0.9699444, 0.9699074, 0.96951854, 0.9711852]\n",
      "[0.8255, 0.90783334, 0.92583334, 0.9356667, 0.9405, 0.94416666, 0.95316666, 0.95, 0.9558333, 0.955, 0.95566666, 0.95566666, 0.95933336, 0.9601667, 0.96066666, 0.96, 0.96433336, 0.9635, 0.9623333, 0.96216667, 0.965, 0.96533334, 0.9661667, 0.96166664, 0.96183336, 0.96533334, 0.96533334, 0.969, 0.9665, 0.96666664, 0.96566665, 0.9635, 0.9661667, 0.9663333, 0.9665, 0.966, 0.9651667, 0.9663333, 0.96666664, 0.96783334, 0.9673333, 0.96683335, 0.968, 0.96716666, 0.9676667, 0.9685, 0.9673333, 0.9676667, 0.9673333, 0.9683333]\n"
     ]
    }
   ],
   "source": [
    "loss, accuracy = medium_model.evaluate(test_data, test_labels, verbose=True)\n",
    "\n",
    "plt.plot(history.history['accuracy'])\n",
    "plt.plot(history.history['val_accuracy'])\n",
    "plt.title('model accuracy')\n",
    "plt.ylabel('accuracy')\n",
    "plt.xlabel('epoch')\n",
    "plt.legend(['training', 'validation'], loc='best')\n",
    "\n",
    "plt.show()\n",
    "\n",
    "plt.plot(history.history['loss'])\n",
    "plt.plot(history.history['val_loss'])\n",
    "plt.title('model loss')\n",
    "plt.ylabel('loss')\n",
    "plt.xlabel('epoch')\n",
    "plt.legend(['training', 'validation'], loc='best')\n",
    "\n",
    "plt.show()\n",
    "\n",
    "print(f'Test loss: {loss:.3}')\n",
    "print(f'Test accuracy: {accuracy:.3}')\n",
    "print(history.history['accuracy'])\n",
    "print(history.history['val_accuracy'])"
   ]
  },
  {
   "cell_type": "markdown",
   "metadata": {},
   "source": [
    "Look at specific results"
   ]
  },
  {
   "cell_type": "code",
   "execution_count": 9,
   "metadata": {},
   "outputs": [],
   "source": [
    "from numpy import argmax\n",
    "\n",
    "# Predicting once, then we can use these repeatedly in the next cell without recomputing the predictions.\n",
    "predictions = medium_model.predict(test_data)\n",
    "\n",
    "# For pagination & style in second cell\n",
    "page = 0\n",
    "fontdict = {'color': 'black'}"
   ]
  },
  {
   "cell_type": "code",
   "execution_count": 10,
   "metadata": {},
   "outputs": [
    {
     "data": {
      "image/png": "[encoded data removed]",
      "text/plain": [
       "<Figure size 432x288 with 16 Axes>"
      ]
     },
     "metadata": {
      "needs_background": "light"
     },
     "output_type": "display_data"
    }
   ],
   "source": [
    "# Repeatedly running this cell will page through the predictions\n",
    "for i in range(16):\n",
    "    ax = plt.subplot(4, 4, i+1)\n",
    "    ax.axis('off')\n",
    "    plt.imshow(test_images[i + page], cmap='Greys')\n",
    "    prediction = argmax(predictions[i + page])\n",
    "    true_value = argmax(test_labels[i + page])\n",
    "\n",
    "    fontdict['color'] = 'black' if prediction == true_value else 'red'\n",
    "    plt.title(\"{}, {}\".format(prediction, true_value), fontdict=fontdict)\n",
    "\n",
    "page += 16\n",
    "plt.tight_layout()\n",
    "plt.show()"
   ]
  },
  {
   "cell_type": "code",
   "execution_count": null,
   "metadata": {},
   "outputs": [],
   "source": []
  }
 ],
 "metadata": {
  "kernelspec": {
   "display_name": "Python 3",
   "language": "python",
   "name": "python3"
  },
  "language_info": {
   "codemirror_mode": {
    "name": "ipython",
    "version": 3
   },
   "file_extension": ".py",
   "mimetype": "text/x-python",
   "name": "python",
   "nbconvert_exporter": "python",
   "pygments_lexer": "ipython3",
   "version": "3.7.7"
  }
 },
 "nbformat": 4,
 "nbformat_minor": 4
}
