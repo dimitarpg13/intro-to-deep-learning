{
 "cells": [
  {
   "cell_type": "markdown",
   "metadata": {},
   "source": [
    "Importing and formatting data\n",
    "\n",
    "Import MNIST dataset of 60,000 training images and 10,000 testing images"
   ]
  },
  {
   "cell_type": "code",
   "execution_count": 1,
   "metadata": {},
   "outputs": [
    {
     "name": "stdout",
     "output_type": "stream",
     "text": [
      "60000 (28, 28)\n",
      "60000 5\n"
     ]
    }
   ],
   "source": [
    "import tensorflow as tf\n",
    "physical_devices = tf.config.list_physical_devices('GPU') \n",
    "tf.config.experimental.set_memory_growth(physical_devices[0], True)\n",
    "\n",
    "# For drawing the MNIST digits as well as plots to help us evaluate performance we\n",
    "# will make extensive use of matplotlib\n",
    "from matplotlib import pyplot as plt\n",
    "\n",
    "# All of the Keras datasets are in keras.datasets\n",
    "from tensorflow.keras.datasets import mnist\n",
    "\n",
    "# Keras has already split the data into training and test data\n",
    "(training_images, training_labels), (test_images, test_labels) = mnist.load_data()\n",
    "\n",
    "# Training images is a list of 60,000 2D lists.\n",
    "# Each 2D list is 28 by 28—the size of the MNIST pixel data.\n",
    "# Each item in the 2D array is an integer from 0 to 255 representing its grayscale\n",
    "# intensity where 0 means white, 255 means black.\n",
    "print(len(training_images), training_images[0].shape)\n",
    "\n",
    "# training_labels are a value between 0 and 9 indicating which digit is represented.\n",
    "# The first item in the training data is a 5\n",
    "print(len(training_labels), training_labels[0])\n"
   ]
  },
  {
   "cell_type": "markdown",
   "metadata": {},
   "source": [
    "Visualize the first 100 images in the dataset"
   ]
  },
  {
   "cell_type": "code",
   "execution_count": 2,
   "metadata": {},
   "outputs": [
    {
     "data": {
      "image/png": "[encoded data removed]",
      "text/plain": [
       "<Figure size 432x288 with 100 Axes>"
      ]
     },
     "metadata": {
      "needs_background": "light"
     },
     "output_type": "display_data"
    }
   ],
   "source": [
    "# Lets visualize the first 100 images from the dataset\n",
    "for i in range(100):\n",
    "    ax = plt.subplot(10, 10, i+1)\n",
    "    ax.axis('off')\n",
    "    plt.imshow(training_images[i], cmap='Greys')"
   ]
  },
  {
   "cell_type": "markdown",
   "metadata": {},
   "source": [
    "Fixing the data format: using `numpy.reshape` and `keras.util.to_categorical`"
   ]
  },
  {
   "cell_type": "code",
   "execution_count": 3,
   "metadata": {},
   "outputs": [
    {
     "name": "stdout",
     "output_type": "stream",
     "text": [
      "training data:  (60000, 28, 28)  ==>  (60000, 784)\n",
      "test data:  (10000, 28, 28)  ==>  (10000, 784)\n"
     ]
    }
   ],
   "source": [
    "from tensorflow.keras.utils import to_categorical\n",
    "\n",
    "# Preparing the dataset\n",
    "# Setup train and test splits\n",
    "(training_images, training_labels), (test_images, test_labels) = mnist.load_data()\n",
    "\n",
    "\n",
    "# 28 x 28 = 784, because that's the dimensions of the MNIST data.\n",
    "image_size = 784\n",
    "\n",
    "# Reshaping the training_images and test_images to lists of vectors with length 784\n",
    "# instead of lists of 2D arrays. Same for the test_images\n",
    "training_data = training_images.reshape(training_images.shape[0], image_size) \n",
    "test_data = test_images.reshape(test_images.shape[0], image_size)\n",
    "\n",
    "# [\n",
    "#     [1,2,3]\n",
    "#     [4,5,6]\n",
    "# ]\n",
    "\n",
    "# => [1,2,3,4,5,6]\n",
    "\n",
    "# Just showing the changes...\n",
    "print(\"training data: \", training_images.shape, \" ==> \", training_data.shape)\n",
    "print(\"test data: \", test_images.shape, \" ==> \", test_data.shape)"
   ]
  },
  {
   "cell_type": "code",
   "execution_count": 4,
   "metadata": {},
   "outputs": [],
   "source": [
    "# Create 1-hot encoded vectors using to_categorical\n",
    "num_classes = 10 # Because it's how many digits we have (0-9) \n",
    "\n",
    "# to_categorical takes a list of integers (our labels) and makes them into 1-hot vectors\n",
    "training_labels = to_categorical(training_labels, num_classes)\n",
    "test_labels = to_categorical(test_labels, num_classes)"
   ]
  },
  {
   "cell_type": "code",
   "execution_count": 5,
   "metadata": {},
   "outputs": [
    {
     "name": "stdout",
     "output_type": "stream",
     "text": [
      "[0. 0. 0. 0. 0. 1. 0. 0. 0. 0.]\n"
     ]
    }
   ],
   "source": [
    "# Recall that before this transformation, training_labels[0] was the value 5. Look now:\n",
    "print(training_labels[0])"
   ]
  },
  {
   "cell_type": "code",
   "execution_count": 6,
   "metadata": {},
   "outputs": [
    {
     "name": "stdout",
     "output_type": "stream",
     "text": [
      "Model: \"sequential\"\n",
      "_________________________________________________________________\n",
      "Layer (type)                 Output Shape              Param #   \n",
      "=================================================================\n",
      "dense (Dense)                (None, 30)                23550     \n",
      "_________________________________________________________________\n",
      "leaky_re_lu (LeakyReLU)      (None, 30)                0         \n",
      "_________________________________________________________________\n",
      "dense_1 (Dense)              (None, 30)                930       \n",
      "_________________________________________________________________\n",
      "leaky_re_lu_1 (LeakyReLU)    (None, 30)                0         \n",
      "_________________________________________________________________\n",
      "dropout (Dropout)            (None, 30)                0         \n",
      "_________________________________________________________________\n",
      "dense_2 (Dense)              (None, 20)                620       \n",
      "_________________________________________________________________\n",
      "leaky_re_lu_2 (LeakyReLU)    (None, 20)                0         \n",
      "_________________________________________________________________\n",
      "dropout_1 (Dropout)          (None, 20)                0         \n",
      "_________________________________________________________________\n",
      "dense_3 (Dense)              (None, 15)                315       \n",
      "_________________________________________________________________\n",
      "leaky_re_lu_3 (LeakyReLU)    (None, 15)                0         \n",
      "_________________________________________________________________\n",
      "dropout_2 (Dropout)          (None, 15)                0         \n",
      "_________________________________________________________________\n",
      "dense_4 (Dense)              (None, 15)                240       \n",
      "_________________________________________________________________\n",
      "leaky_re_lu_4 (LeakyReLU)    (None, 15)                0         \n",
      "_________________________________________________________________\n",
      "dropout_3 (Dropout)          (None, 15)                0         \n",
      "_________________________________________________________________\n",
      "dense_5 (Dense)              (None, 20)                320       \n",
      "_________________________________________________________________\n",
      "leaky_re_lu_5 (LeakyReLU)    (None, 20)                0         \n",
      "_________________________________________________________________\n",
      "dropout_4 (Dropout)          (None, 20)                0         \n",
      "_________________________________________________________________\n",
      "dense_6 (Dense)              (None, 30)                630       \n",
      "_________________________________________________________________\n",
      "leaky_re_lu_6 (LeakyReLU)    (None, 30)                0         \n",
      "_________________________________________________________________\n",
      "dropout_5 (Dropout)          (None, 30)                0         \n",
      "_________________________________________________________________\n",
      "dense_7 (Dense)              (None, 10)                310       \n",
      "=================================================================\n",
      "Total params: 26,915\n",
      "Trainable params: 26,915\n",
      "Non-trainable params: 0\n",
      "_________________________________________________________________\n"
     ]
    }
   ],
   "source": [
    "from tensorflow.keras.models import Sequential\n",
    "from tensorflow.keras.layers import Dense, Dropout\n",
    "# Using Leakly ReLU is slightly different in Keras, which can be annoying.\n",
    "# Additionally, Keras allows us to choose any slope we want for the \"leaky\" part\n",
    "# rather than being statically 0.01 as in the above two functions. \n",
    "from tensorflow.keras.layers import LeakyReLU\n",
    "\n",
    "# Sequential models are a series of layers applied linearly.\n",
    "medium_model = Sequential()\n",
    "# The first layer must specify it's input_shape.\n",
    "# This is how the first two layers are added, the input layer and the hidden layer.\n",
    "medium_model.add(Dense(units=30, input_shape=(image_size,)))\n",
    "medium_model.add(LeakyReLU(alpha=.1))\n",
    "\n",
    "medium_model.add(Dense(units=30))\n",
    "medium_model.add(LeakyReLU(alpha=.09))\n",
    "medium_model.add(Dropout(rate=0.2))\n",
    "\n",
    "medium_model.add(Dense(units=20))\n",
    "medium_model.add(LeakyReLU(alpha=.08))\n",
    "medium_model.add(Dropout(rate=0.1))\n",
    "\n",
    "medium_model.add(Dense(units=15))\n",
    "medium_model.add(LeakyReLU(alpha=.07))\n",
    "medium_model.add(Dropout(rate=0.05))\n",
    "\n",
    "medium_model.add(Dense(units=15))\n",
    "medium_model.add(LeakyReLU(alpha=.06))\n",
    "medium_model.add(Dropout(rate=0.05))\n",
    "\n",
    "medium_model.add(Dense(units=20))\n",
    "medium_model.add(LeakyReLU(alpha=.05))\n",
    "medium_model.add(Dropout(rate=0.1))\n",
    "\n",
    "medium_model.add(Dense(units=30))\n",
    "medium_model.add(LeakyReLU(alpha=.04))\n",
    "medium_model.add(Dropout(rate=0.2))\n",
    "\n",
    "\n",
    "# This is how the output layer gets added, the 'softmax' activation function ensures\n",
    "# that the sum of the values in the output nodes is 1. Softmax is very\n",
    "# common in classification networks. \n",
    "medium_model.add(Dense(units=num_classes, activation='softmax'))\n",
    "# This function provides useful text data for our network\n",
    "medium_model.summary()"
   ]
  },
  {
   "cell_type": "markdown",
   "metadata": {},
   "source": [
    "Compiling and training the model\n"
   ]
  },
  {
   "cell_type": "code",
   "execution_count": 7,
   "metadata": {},
   "outputs": [
    {
     "name": "stdout",
     "output_type": "stream",
     "text": [
      "Train on 54000 samples, validate on 6000 samples\n",
      "Epoch 1/50\n",
      "54000/54000 [==============================] - 7s 131us/sample - loss: 1.9046 - accuracy: 0.3517 - val_loss: 0.7317 - val_accuracy: 0.7492\n",
      "Epoch 2/50\n",
      "54000/54000 [==============================] - 6s 103us/sample - loss: 0.8986 - accuracy: 0.6947 - val_loss: 0.4808 - val_accuracy: 0.8650\n",
      "Epoch 3/50\n",
      "54000/54000 [==============================] - 5s 98us/sample - loss: 0.6666 - accuracy: 0.7949 - val_loss: 0.3677 - val_accuracy: 0.9048\n",
      "Epoch 4/50\n",
      "54000/54000 [==============================] - 6s 103us/sample - loss: 0.5356 - accuracy: 0.8532 - val_loss: 0.2950 - val_accuracy: 0.9297\n",
      "Epoch 5/50\n",
      "54000/54000 [==============================] - 6s 107us/sample - loss: 0.4517 - accuracy: 0.8792 - val_loss: 0.2477 - val_accuracy: 0.9395\n",
      "Epoch 6/50\n",
      "54000/54000 [==============================] - 6s 113us/sample - loss: 0.3975 - accuracy: 0.8964 - val_loss: 0.2293 - val_accuracy: 0.9393\n",
      "Epoch 7/50\n",
      "54000/54000 [==============================] - 5s 94us/sample - loss: 0.3547 - accuracy: 0.9072 - val_loss: 0.2045 - val_accuracy: 0.9460\n",
      "Epoch 8/50\n",
      "54000/54000 [==============================] - 5s 95us/sample - loss: 0.3244 - accuracy: 0.9169 - val_loss: 0.1914 - val_accuracy: 0.9525\n",
      "Epoch 9/50\n",
      "54000/54000 [==============================] - 7s 123us/sample - loss: 0.3021 - accuracy: 0.9240 - val_loss: 0.1815 - val_accuracy: 0.9533\n",
      "Epoch 10/50\n",
      "54000/54000 [==============================] - 6s 102us/sample - loss: 0.2866 - accuracy: 0.9268 - val_loss: 0.1832 - val_accuracy: 0.9497\n",
      "Epoch 11/50\n",
      "54000/54000 [==============================] - 6s 105us/sample - loss: 0.2695 - accuracy: 0.9321 - val_loss: 0.1641 - val_accuracy: 0.9572\n",
      "Epoch 12/50\n",
      "54000/54000 [==============================] - 6s 116us/sample - loss: 0.2565 - accuracy: 0.9359 - val_loss: 0.1701 - val_accuracy: 0.9568\n",
      "Epoch 13/50\n",
      "54000/54000 [==============================] - 6s 113us/sample - loss: 0.2388 - accuracy: 0.9392 - val_loss: 0.1616 - val_accuracy: 0.9592\n",
      "Epoch 14/50\n",
      "54000/54000 [==============================] - 6s 117us/sample - loss: 0.2308 - accuracy: 0.9415 - val_loss: 0.1631 - val_accuracy: 0.9580\n",
      "Epoch 15/50\n",
      "54000/54000 [==============================] - 6s 110us/sample - loss: 0.2219 - accuracy: 0.9443 - val_loss: 0.1518 - val_accuracy: 0.9622\n",
      "Epoch 16/50\n",
      "54000/54000 [==============================] - 6s 115us/sample - loss: 0.2143 - accuracy: 0.9454 - val_loss: 0.1535 - val_accuracy: 0.9603\n",
      "Epoch 17/50\n",
      "54000/54000 [==============================] - 8s 151us/sample - loss: 0.2045 - accuracy: 0.9484 - val_loss: 0.1695 - val_accuracy: 0.9573\n",
      "Epoch 18/50\n",
      "54000/54000 [==============================] - 7s 131us/sample - loss: 0.1955 - accuracy: 0.9501 - val_loss: 0.1497 - val_accuracy: 0.9628\n",
      "Epoch 19/50\n",
      "54000/54000 [==============================] - 9s 168us/sample - loss: 0.1896 - accuracy: 0.9526 - val_loss: 0.1498 - val_accuracy: 0.9625\n",
      "Epoch 20/50\n",
      "54000/54000 [==============================] - 8s 147us/sample - loss: 0.1802 - accuracy: 0.9542 - val_loss: 0.1368 - val_accuracy: 0.9630\n",
      "Epoch 21/50\n",
      "54000/54000 [==============================] - 7s 133us/sample - loss: 0.1813 - accuracy: 0.9533 - val_loss: 0.1517 - val_accuracy: 0.9643\n",
      "Epoch 22/50\n",
      "54000/54000 [==============================] - 9s 164us/sample - loss: 0.1738 - accuracy: 0.9551 - val_loss: 0.1428 - val_accuracy: 0.9643\n",
      "Epoch 23/50\n",
      "54000/54000 [==============================] - 9s 170us/sample - loss: 0.1677 - accuracy: 0.9573 - val_loss: 0.1384 - val_accuracy: 0.9642\n",
      "Epoch 24/50\n",
      "54000/54000 [==============================] - 8s 149us/sample - loss: 0.1709 - accuracy: 0.9569 - val_loss: 0.1365 - val_accuracy: 0.9663\n",
      "Epoch 25/50\n",
      "54000/54000 [==============================] - 8s 150us/sample - loss: 0.1627 - accuracy: 0.9590 - val_loss: 0.1387 - val_accuracy: 0.9663\n",
      "Epoch 26/50\n",
      "54000/54000 [==============================] - 9s 161us/sample - loss: 0.1595 - accuracy: 0.9597 - val_loss: 0.1452 - val_accuracy: 0.9642\n",
      "Epoch 27/50\n",
      "54000/54000 [==============================] - 8s 147us/sample - loss: 0.1577 - accuracy: 0.9605 - val_loss: 0.1365 - val_accuracy: 0.9655\n",
      "Epoch 28/50\n",
      "54000/54000 [==============================] - 7s 128us/sample - loss: 0.1526 - accuracy: 0.9603 - val_loss: 0.1435 - val_accuracy: 0.9653\n",
      "Epoch 29/50\n",
      "54000/54000 [==============================] - 7s 129us/sample - loss: 0.1429 - accuracy: 0.9635 - val_loss: 0.1340 - val_accuracy: 0.9665\n",
      "Epoch 30/50\n",
      "54000/54000 [==============================] - 7s 126us/sample - loss: 0.1464 - accuracy: 0.9618 - val_loss: 0.1441 - val_accuracy: 0.9645\n",
      "Epoch 31/50\n",
      "54000/54000 [==============================] - 7s 130us/sample - loss: 0.1402 - accuracy: 0.9637 - val_loss: 0.1221 - val_accuracy: 0.9677\n",
      "Epoch 32/50\n",
      "54000/54000 [==============================] - 8s 144us/sample - loss: 0.1448 - accuracy: 0.9629 - val_loss: 0.1351 - val_accuracy: 0.9653\n",
      "Epoch 33/50\n",
      "54000/54000 [==============================] - 6s 120us/sample - loss: 0.1423 - accuracy: 0.9632 - val_loss: 0.1368 - val_accuracy: 0.9660\n",
      "Epoch 34/50\n",
      "54000/54000 [==============================] - 7s 122us/sample - loss: 0.1408 - accuracy: 0.9641 - val_loss: 0.1304 - val_accuracy: 0.9667\n",
      "Epoch 35/50\n",
      "54000/54000 [==============================] - 7s 122us/sample - loss: 0.1367 - accuracy: 0.9640 - val_loss: 0.1307 - val_accuracy: 0.9680\n",
      "Epoch 36/50\n",
      "54000/54000 [==============================] - 6s 117us/sample - loss: 0.1328 - accuracy: 0.9661 - val_loss: 0.1195 - val_accuracy: 0.9705\n",
      "Epoch 37/50\n",
      "54000/54000 [==============================] - 7s 123us/sample - loss: 0.1289 - accuracy: 0.9658 - val_loss: 0.1316 - val_accuracy: 0.9697\n",
      "Epoch 38/50\n",
      "54000/54000 [==============================] - 6s 105us/sample - loss: 0.1272 - accuracy: 0.9666 - val_loss: 0.1325 - val_accuracy: 0.9675\n",
      "Epoch 39/50\n",
      "54000/54000 [==============================] - 6s 114us/sample - loss: 0.1291 - accuracy: 0.9667 - val_loss: 0.1302 - val_accuracy: 0.96902 - accuracy: \n",
      "Epoch 40/50\n",
      "54000/54000 [==============================] - 6s 107us/sample - loss: 0.1214 - accuracy: 0.9692 - val_loss: 0.1261 - val_accuracy: 0.9688\n",
      "Epoch 41/50\n",
      "54000/54000 [==============================] - 5s 99us/sample - loss: 0.1218 - accuracy: 0.9688 - val_loss: 0.1427 - val_accuracy: 0.9662\n",
      "Epoch 42/50\n",
      "54000/54000 [==============================] - 5s 91us/sample - loss: 0.1190 - accuracy: 0.9694 - val_loss: 0.1270 - val_accuracy: 0.9692\n",
      "Epoch 43/50\n",
      "54000/54000 [==============================] - 5s 95us/sample - loss: 0.1174 - accuracy: 0.9697 - val_loss: 0.1377 - val_accuracy: 0.9680\n",
      "Epoch 44/50\n",
      "54000/54000 [==============================] - 6s 109us/sample - loss: 0.1207 - accuracy: 0.9683 - val_loss: 0.1394 - val_accuracy: 0.9678\n",
      "Epoch 45/50\n",
      "54000/54000 [==============================] - 5s 99us/sample - loss: 0.1198 - accuracy: 0.9689 - val_loss: 0.1392 - val_accuracy: 0.9692\n",
      "Epoch 46/50\n",
      "54000/54000 [==============================] - 5s 101us/sample - loss: 0.1139 - accuracy: 0.9701 - val_loss: 0.1241 - val_accuracy: 0.9697\n",
      "Epoch 47/50\n",
      "54000/54000 [==============================] - 5s 98us/sample - loss: 0.1084 - accuracy: 0.9716 - val_loss: 0.1279 - val_accuracy: 0.9683\n",
      "Epoch 48/50\n",
      "54000/54000 [==============================] - 5s 95us/sample - loss: 0.1099 - accuracy: 0.9713 - val_loss: 0.1184 - val_accuracy: 0.9692\n",
      "Epoch 49/50\n",
      "54000/54000 [==============================] - 5s 92us/sample - loss: 0.1104 - accuracy: 0.9713 - val_loss: 0.1360 - val_accuracy: 0.9662\n",
      "Epoch 50/50\n",
      "54000/54000 [==============================] - 5s 98us/sample - loss: 0.1080 - accuracy: 0.9725 - val_loss: 0.1445 - val_accuracy: 0.9677\n"
     ]
    }
   ],
   "source": [
    "# sgd stands for stochastic gradient descent.\n",
    "# categorical_crossentropy is a common loss function used for categorical classification.\n",
    "# accuracy is the percent of predictions that were correct.\n",
    "medium_model.compile(optimizer=\"nadam\", loss='kullback_leibler_divergence', metrics=['accuracy'])\n",
    "\n",
    "# The network will make predictions for 128 flattened images per correction.\n",
    "# It will make a prediction on each item in the training set 5 times (5 epochs)\n",
    "# And 10% of the data will be used as validation data.\n",
    "history = medium_model.fit(training_data, training_labels, batch_size=128, epochs=50, verbose=True, validation_split=.1)"
   ]
  },
  {
   "cell_type": "markdown",
   "metadata": {},
   "source": [
    "Evaluating our model"
   ]
  },
  {
   "cell_type": "code",
   "execution_count": 8,
   "metadata": {},
   "outputs": [
    {
     "name": "stdout",
     "output_type": "stream",
     "text": [
      "10000/10000 [==============================] - 2s 225us/sample - loss: 0.1772 - accuracy: 0.9617\n"
     ]
    },
    {
     "data": {
      "image/png": "[encoded data removed]",
      "text/plain": [
       "<Figure size 432x288 with 1 Axes>"
      ]
     },
     "metadata": {
      "needs_background": "light"
     },
     "output_type": "display_data"
    },
    {
     "data": {
      "image/png": "[encoded data removed]",
      "text/plain": [
       "<Figure size 432x288 with 1 Axes>"
      ]
     },
     "metadata": {
      "needs_background": "light"
     },
     "output_type": "display_data"
    },
    {
     "name": "stdout",
     "output_type": "stream",
     "text": [
      "Test loss: 0.177\n",
      "Test accuracy: 0.962\n",
      "[0.3516852, 0.6947037, 0.7949259, 0.8532037, 0.87916666, 0.89644444, 0.9071852, 0.9168889, 0.924, 0.9268148, 0.93214816, 0.9359074, 0.93916667, 0.94151855, 0.94431484, 0.9453704, 0.9484444, 0.9500926, 0.95255554, 0.9541852, 0.9532592, 0.95505553, 0.9572778, 0.9568889, 0.959, 0.95974076, 0.960463, 0.9602963, 0.9635, 0.96175927, 0.9636852, 0.9628518, 0.9631852, 0.9640741, 0.96403706, 0.9661296, 0.9657963, 0.96655554, 0.9667407, 0.9691852, 0.9688333, 0.9694074, 0.9696852, 0.9683148, 0.96894443, 0.9700926, 0.97164816, 0.9712778, 0.97125924, 0.97246295]\n",
      "[0.74916667, 0.865, 0.9048333, 0.92966664, 0.9395, 0.9393333, 0.946, 0.9525, 0.9533333, 0.9496667, 0.9571667, 0.95683336, 0.95916665, 0.958, 0.96216667, 0.96033335, 0.9573333, 0.96283334, 0.9625, 0.963, 0.96433336, 0.96433336, 0.96416664, 0.9663333, 0.9663333, 0.96416664, 0.9655, 0.96533334, 0.9665, 0.9645, 0.9676667, 0.96533334, 0.966, 0.96666664, 0.968, 0.9705, 0.96966666, 0.9675, 0.969, 0.9688333, 0.9661667, 0.9691667, 0.968, 0.96783334, 0.9691667, 0.96966666, 0.9683333, 0.9691667, 0.9661667, 0.9676667]\n"
     ]
    }
   ],
   "source": [
    "loss, accuracy = medium_model.evaluate(test_data, test_labels, verbose=True)\n",
    "\n",
    "plt.plot(history.history['accuracy'])\n",
    "plt.plot(history.history['val_accuracy'])\n",
    "plt.title('model accuracy')\n",
    "plt.ylabel('accuracy')\n",
    "plt.xlabel('epoch')\n",
    "plt.legend(['training', 'validation'], loc='best')\n",
    "\n",
    "plt.show()\n",
    "\n",
    "plt.plot(history.history['loss'])\n",
    "plt.plot(history.history['val_loss'])\n",
    "plt.title('model loss')\n",
    "plt.ylabel('loss')\n",
    "plt.xlabel('epoch')\n",
    "plt.legend(['training', 'validation'], loc='best')\n",
    "\n",
    "plt.show()\n",
    "\n",
    "print(f'Test loss: {loss:.3}')\n",
    "print(f'Test accuracy: {accuracy:.3}')\n",
    "print(history.history['accuracy'])\n",
    "print(history.history['val_accuracy'])"
   ]
  },
  {
   "cell_type": "markdown",
   "metadata": {},
   "source": [
    "Look at specific results"
   ]
  },
  {
   "cell_type": "code",
   "execution_count": 9,
   "metadata": {},
   "outputs": [],
   "source": [
    "from numpy import argmax\n",
    "\n",
    "# Predicting once, then we can use these repeatedly in the next cell without recomputing the predictions.\n",
    "predictions = medium_model.predict(test_data)\n",
    "\n",
    "# For pagination & style in second cell\n",
    "page = 0\n",
    "fontdict = {'color': 'black'}"
   ]
  },
  {
   "cell_type": "code",
   "execution_count": 10,
   "metadata": {},
   "outputs": [
    {
     "data": {
      "image/png": "[encoded data removed]",
      "text/plain": [
       "<Figure size 432x288 with 16 Axes>"
      ]
     },
     "metadata": {
      "needs_background": "light"
     },
     "output_type": "display_data"
    }
   ],
   "source": [
    "# Repeatedly running this cell will page through the predictions\n",
    "for i in range(16):\n",
    "    ax = plt.subplot(4, 4, i+1)\n",
    "    ax.axis('off')\n",
    "    plt.imshow(test_images[i + page], cmap='Greys')\n",
    "    prediction = argmax(predictions[i + page])\n",
    "    true_value = argmax(test_labels[i + page])\n",
    "\n",
    "    fontdict['color'] = 'black' if prediction == true_value else 'red'\n",
    "    plt.title(\"{}, {}\".format(prediction, true_value), fontdict=fontdict)\n",
    "\n",
    "page += 16\n",
    "plt.tight_layout()\n",
    "plt.show()"
   ]
  },
  {
   "cell_type": "code",
   "execution_count": null,
   "metadata": {},
   "outputs": [],
   "source": []
  }
 ],
 "metadata": {
  "kernelspec": {
   "display_name": "Python 3",
   "language": "python",
   "name": "python3"
  },
  "language_info": {
   "codemirror_mode": {
    "name": "ipython",
    "version": 3
   },
   "file_extension": ".py",
   "mimetype": "text/x-python",
   "name": "python",
   "nbconvert_exporter": "python",
   "pygments_lexer": "ipython3",
   "version": "3.7.7"
  }
 },
 "nbformat": 4,
 "nbformat_minor": 4
}
