{
 "cells": [
  {
   "cell_type": "markdown",
   "metadata": {},
   "source": [
    "Importing and formatting data\n",
    "\n",
    "Import MNIST dataset of 60,000 training images and 10,000 testing images"
   ]
  },
  {
   "cell_type": "code",
   "execution_count": 1,
   "metadata": {},
   "outputs": [
    {
     "name": "stdout",
     "output_type": "stream",
     "text": [
      "60000 (28, 28)\n",
      "60000 5\n"
     ]
    }
   ],
   "source": [
    "import tensorflow as tf\n",
    "physical_devices = tf.config.list_physical_devices('GPU') \n",
    "tf.config.experimental.set_memory_growth(physical_devices[0], True)\n",
    "\n",
    "# For drawing the MNIST digits as well as plots to help us evaluate performance we\n",
    "# will make extensive use of matplotlib\n",
    "from matplotlib import pyplot as plt\n",
    "\n",
    "# All of the Keras datasets are in keras.datasets\n",
    "from tensorflow.keras.datasets import mnist\n",
    "\n",
    "# Keras has already split the data into training and test data\n",
    "(training_images, training_labels), (test_images, test_labels) = mnist.load_data()\n",
    "\n",
    "# Training images is a list of 60,000 2D lists.\n",
    "# Each 2D list is 28 by 28—the size of the MNIST pixel data.\n",
    "# Each item in the 2D array is an integer from 0 to 255 representing its grayscale\n",
    "# intensity where 0 means white, 255 means black.\n",
    "print(len(training_images), training_images[0].shape)\n",
    "\n",
    "# training_labels are a value between 0 and 9 indicating which digit is represented.\n",
    "# The first item in the training data is a 5\n",
    "print(len(training_labels), training_labels[0])\n"
   ]
  },
  {
   "cell_type": "markdown",
   "metadata": {},
   "source": [
    "Visualize the first 100 images in the dataset"
   ]
  },
  {
   "cell_type": "code",
   "execution_count": 2,
   "metadata": {},
   "outputs": [
    {
     "data": {
      "image/png": "[encoded data removed]",
      "text/plain": [
       "<Figure size 432x288 with 100 Axes>"
      ]
     },
     "metadata": {
      "needs_background": "light"
     },
     "output_type": "display_data"
    }
   ],
   "source": [
    "# Lets visualize the first 100 images from the dataset\n",
    "for i in range(100):\n",
    "    ax = plt.subplot(10, 10, i+1)\n",
    "    ax.axis('off')\n",
    "    plt.imshow(training_images[i], cmap='Greys')"
   ]
  },
  {
   "cell_type": "markdown",
   "metadata": {},
   "source": [
    "Fixing the data format: using `numpy.reshape` and `keras.util.to_categorical`"
   ]
  },
  {
   "cell_type": "code",
   "execution_count": 3,
   "metadata": {},
   "outputs": [
    {
     "name": "stdout",
     "output_type": "stream",
     "text": [
      "training data:  (60000, 28, 28)  ==>  (60000, 784)\n",
      "test data:  (10000, 28, 28)  ==>  (10000, 784)\n"
     ]
    }
   ],
   "source": [
    "from tensorflow.keras.utils import to_categorical\n",
    "\n",
    "# Preparing the dataset\n",
    "# Setup train and test splits\n",
    "(training_images, training_labels), (test_images, test_labels) = mnist.load_data()\n",
    "\n",
    "\n",
    "# 28 x 28 = 784, because that's the dimensions of the MNIST data.\n",
    "image_size = 784\n",
    "\n",
    "# Reshaping the training_images and test_images to lists of vectors with length 784\n",
    "# instead of lists of 2D arrays. Same for the test_images\n",
    "training_data = training_images.reshape(training_images.shape[0], image_size) \n",
    "test_data = test_images.reshape(test_images.shape[0], image_size)\n",
    "\n",
    "# [\n",
    "#     [1,2,3]\n",
    "#     [4,5,6]\n",
    "# ]\n",
    "\n",
    "# => [1,2,3,4,5,6]\n",
    "\n",
    "# Just showing the changes...\n",
    "print(\"training data: \", training_images.shape, \" ==> \", training_data.shape)\n",
    "print(\"test data: \", test_images.shape, \" ==> \", test_data.shape)"
   ]
  },
  {
   "cell_type": "code",
   "execution_count": 4,
   "metadata": {},
   "outputs": [],
   "source": [
    "# Create 1-hot encoded vectors using to_categorical\n",
    "num_classes = 10 # Because it's how many digits we have (0-9) \n",
    "\n",
    "# to_categorical takes a list of integers (our labels) and makes them into 1-hot vectors\n",
    "training_labels = to_categorical(training_labels, num_classes)\n",
    "test_labels = to_categorical(test_labels, num_classes)"
   ]
  },
  {
   "cell_type": "code",
   "execution_count": 5,
   "metadata": {},
   "outputs": [
    {
     "name": "stdout",
     "output_type": "stream",
     "text": [
      "[0. 0. 0. 0. 0. 1. 0. 0. 0. 0.]\n"
     ]
    }
   ],
   "source": [
    "# Recall that before this transformation, training_labels[0] was the value 5. Look now:\n",
    "print(training_labels[0])"
   ]
  },
  {
   "cell_type": "code",
   "execution_count": 6,
   "metadata": {},
   "outputs": [
    {
     "name": "stdout",
     "output_type": "stream",
     "text": [
      "Model: \"sequential\"\n",
      "_________________________________________________________________\n",
      "Layer (type)                 Output Shape              Param #   \n",
      "=================================================================\n",
      "dense (Dense)                (None, 30)                23550     \n",
      "_________________________________________________________________\n",
      "leaky_re_lu (LeakyReLU)      (None, 30)                0         \n",
      "_________________________________________________________________\n",
      "dense_1 (Dense)              (None, 30)                930       \n",
      "_________________________________________________________________\n",
      "leaky_re_lu_1 (LeakyReLU)    (None, 30)                0         \n",
      "_________________________________________________________________\n",
      "dropout (Dropout)            (None, 30)                0         \n",
      "_________________________________________________________________\n",
      "dense_2 (Dense)              (None, 30)                930       \n",
      "_________________________________________________________________\n",
      "leaky_re_lu_2 (LeakyReLU)    (None, 30)                0         \n",
      "_________________________________________________________________\n",
      "dropout_1 (Dropout)          (None, 30)                0         \n",
      "_________________________________________________________________\n",
      "dense_3 (Dense)              (None, 30)                930       \n",
      "_________________________________________________________________\n",
      "leaky_re_lu_3 (LeakyReLU)    (None, 30)                0         \n",
      "_________________________________________________________________\n",
      "dropout_2 (Dropout)          (None, 30)                0         \n",
      "_________________________________________________________________\n",
      "dense_4 (Dense)              (None, 30)                930       \n",
      "_________________________________________________________________\n",
      "leaky_re_lu_4 (LeakyReLU)    (None, 30)                0         \n",
      "_________________________________________________________________\n",
      "dropout_3 (Dropout)          (None, 30)                0         \n",
      "_________________________________________________________________\n",
      "dense_5 (Dense)              (None, 30)                930       \n",
      "_________________________________________________________________\n",
      "leaky_re_lu_5 (LeakyReLU)    (None, 30)                0         \n",
      "_________________________________________________________________\n",
      "dropout_4 (Dropout)          (None, 30)                0         \n",
      "_________________________________________________________________\n",
      "dense_6 (Dense)              (None, 30)                930       \n",
      "_________________________________________________________________\n",
      "leaky_re_lu_6 (LeakyReLU)    (None, 30)                0         \n",
      "_________________________________________________________________\n",
      "dropout_5 (Dropout)          (None, 30)                0         \n",
      "_________________________________________________________________\n",
      "dense_7 (Dense)              (None, 30)                930       \n",
      "_________________________________________________________________\n",
      "leaky_re_lu_7 (LeakyReLU)    (None, 30)                0         \n",
      "_________________________________________________________________\n",
      "dropout_6 (Dropout)          (None, 30)                0         \n",
      "_________________________________________________________________\n",
      "dense_8 (Dense)              (None, 30)                930       \n",
      "_________________________________________________________________\n",
      "leaky_re_lu_8 (LeakyReLU)    (None, 30)                0         \n",
      "_________________________________________________________________\n",
      "dropout_7 (Dropout)          (None, 30)                0         \n",
      "_________________________________________________________________\n",
      "dense_9 (Dense)              (None, 30)                930       \n",
      "_________________________________________________________________\n",
      "leaky_re_lu_9 (LeakyReLU)    (None, 30)                0         \n",
      "_________________________________________________________________\n",
      "dropout_8 (Dropout)          (None, 30)                0         \n",
      "_________________________________________________________________\n",
      "dense_10 (Dense)             (None, 10)                310       \n",
      "=================================================================\n",
      "Total params: 32,230\n",
      "Trainable params: 32,230\n",
      "Non-trainable params: 0\n",
      "_________________________________________________________________\n"
     ]
    }
   ],
   "source": [
    "from tensorflow.keras.models import Sequential\n",
    "from tensorflow.keras.layers import Dense, Dropout\n",
    "# Using Leakly ReLU is slightly different in Keras, which can be annoying.\n",
    "# Additionally, Keras allows us to choose any slope we want for the \"leaky\" part\n",
    "# rather than being statically 0.01 as in the above two functions. \n",
    "from tensorflow.keras.layers import LeakyReLU\n",
    "\n",
    "# Sequential models are a series of layers applied linearly.\n",
    "medium_model = Sequential()\n",
    "# The first layer must specify it's input_shape.\n",
    "# This is how the first two layers are added, the input layer and the hidden layer.\n",
    "medium_model.add(Dense(units=30, input_shape=(image_size,)))\n",
    "medium_model.add(LeakyReLU(alpha=.1))\n",
    "\n",
    "medium_model.add(Dense(units=30))\n",
    "medium_model.add(LeakyReLU(alpha=.09))\n",
    "medium_model.add(Dropout(rate=0.1))\n",
    "\n",
    "medium_model.add(Dense(units=30))\n",
    "medium_model.add(LeakyReLU(alpha=.08))\n",
    "medium_model.add(Dropout(rate=0.1))\n",
    "\n",
    "medium_model.add(Dense(units=30))\n",
    "medium_model.add(LeakyReLU(alpha=.07))\n",
    "medium_model.add(Dropout(rate=0.1))\n",
    "\n",
    "medium_model.add(Dense(units=30))\n",
    "medium_model.add(LeakyReLU(alpha=.06))\n",
    "medium_model.add(Dropout(rate=0.05))\n",
    "\n",
    "medium_model.add(Dense(units=30))\n",
    "medium_model.add(LeakyReLU(alpha=.05))\n",
    "medium_model.add(Dropout(rate=0.05))\n",
    "\n",
    "medium_model.add(Dense(units=30))\n",
    "medium_model.add(LeakyReLU(alpha=.04))\n",
    "medium_model.add(Dropout(rate=0.05))\n",
    "\n",
    "medium_model.add(Dense(units=30))\n",
    "medium_model.add(LeakyReLU(alpha=.03))\n",
    "medium_model.add(Dropout(rate=0.01))\n",
    "\n",
    "medium_model.add(Dense(units=30))\n",
    "medium_model.add(LeakyReLU(alpha=.02))\n",
    "medium_model.add(Dropout(rate=0.01))\n",
    "\n",
    "medium_model.add(Dense(units=30))\n",
    "medium_model.add(LeakyReLU(alpha=.01))\n",
    "medium_model.add(Dropout(rate=0.01))\n",
    "\n",
    "# This is how the output layer gets added, the 'softmax' activation function ensures\n",
    "# that the sum of the values in the output nodes is 1. Softmax is very\n",
    "# common in classification networks. \n",
    "medium_model.add(Dense(units=num_classes, activation='softmax'))\n",
    "# This function provides useful text data for our network\n",
    "medium_model.summary()"
   ]
  },
  {
   "cell_type": "markdown",
   "metadata": {},
   "source": [
    "Compiling and training the model\n"
   ]
  },
  {
   "cell_type": "code",
   "execution_count": 7,
   "metadata": {},
   "outputs": [
    {
     "name": "stdout",
     "output_type": "stream",
     "text": [
      "Train on 54000 samples, validate on 6000 samples\n",
      "Epoch 1/30\n",
      "54000/54000 [==============================] - 9s 162us/sample - loss: 1.2763 - accuracy: 0.5518 - val_loss: 0.3799 - val_accuracy: 0.8937\n",
      "Epoch 2/30\n",
      "54000/54000 [==============================] - 7s 130us/sample - loss: 0.5088 - accuracy: 0.8523 - val_loss: 0.2377 - val_accuracy: 0.9385\n",
      "Epoch 3/30\n",
      "54000/54000 [==============================] - 7s 127us/sample - loss: 0.3693 - accuracy: 0.9009 - val_loss: 0.2150 - val_accuracy: 0.9417\n",
      "Epoch 4/30\n",
      "54000/54000 [==============================] - 7s 129us/sample - loss: 0.3042 - accuracy: 0.9198 - val_loss: 0.1942 - val_accuracy: 0.9477\n",
      "Epoch 5/30\n",
      "54000/54000 [==============================] - 7s 124us/sample - loss: 0.2704 - accuracy: 0.9308 - val_loss: 0.1780 - val_accuracy: 0.9538\n",
      "Epoch 6/30\n",
      "54000/54000 [==============================] - 7s 125us/sample - loss: 0.2432 - accuracy: 0.9371 - val_loss: 0.1693 - val_accuracy: 0.9542\n",
      "Epoch 7/30\n",
      "54000/54000 [==============================] - 8s 140us/sample - loss: 0.2268 - accuracy: 0.9421 - val_loss: 0.1636 - val_accuracy: 0.9560\n",
      "Epoch 8/30\n",
      "54000/54000 [==============================] - 8s 141us/sample - loss: 0.2106 - accuracy: 0.9456 - val_loss: 0.1509 - val_accuracy: 0.9593\n",
      "Epoch 9/30\n",
      "54000/54000 [==============================] - 7s 134us/sample - loss: 0.1971 - accuracy: 0.9490 - val_loss: 0.1470 - val_accuracy: 0.9608\n",
      "Epoch 10/30\n",
      "54000/54000 [==============================] - 7s 129us/sample - loss: 0.1845 - accuracy: 0.9521 - val_loss: 0.1429 - val_accuracy: 0.9618\n",
      "Epoch 11/30\n",
      "54000/54000 [==============================] - 7s 129us/sample - loss: 0.1756 - accuracy: 0.9540 - val_loss: 0.1413 - val_accuracy: 0.9647\n",
      "Epoch 12/30\n",
      "54000/54000 [==============================] - 8s 140us/sample - loss: 0.1662 - accuracy: 0.9570 - val_loss: 0.1436 - val_accuracy: 0.9618\n",
      "Epoch 13/30\n",
      "54000/54000 [==============================] - 8s 144us/sample - loss: 0.1639 - accuracy: 0.9580 - val_loss: 0.1360 - val_accuracy: 0.9640\n",
      "Epoch 14/30\n",
      "54000/54000 [==============================] - 8s 147us/sample - loss: 0.1545 - accuracy: 0.9598 - val_loss: 0.1346 - val_accuracy: 0.9653\n",
      "Epoch 15/30\n",
      "54000/54000 [==============================] - 8s 150us/sample - loss: 0.1506 - accuracy: 0.9609 - val_loss: 0.1287 - val_accuracy: 0.9668\n",
      "Epoch 16/30\n",
      "54000/54000 [==============================] - ETA: 0s - loss: 0.1445 - accuracy: 0.96 - 9s 158us/sample - loss: 0.1443 - accuracy: 0.9624 - val_loss: 0.1267 - val_accuracy: 0.9673\n",
      "Epoch 17/30\n",
      "54000/54000 [==============================] - 8s 155us/sample - loss: 0.1402 - accuracy: 0.9632 - val_loss: 0.1248 - val_accuracy: 0.9683\n",
      "Epoch 18/30\n",
      "54000/54000 [==============================] - 8s 157us/sample - loss: 0.1341 - accuracy: 0.9648 - val_loss: 0.1197 - val_accuracy: 0.9687\n",
      "Epoch 19/30\n",
      "54000/54000 [==============================] - 9s 165us/sample - loss: 0.1313 - accuracy: 0.9659 - val_loss: 0.1265 - val_accuracy: 0.9692\n",
      "Epoch 20/30\n",
      "54000/54000 [==============================] - 9s 166us/sample - loss: 0.1259 - accuracy: 0.9660 - val_loss: 0.1212 - val_accuracy: 0.9685\n",
      "Epoch 21/30\n",
      "54000/54000 [==============================] - 9s 164us/sample - loss: 0.1247 - accuracy: 0.9679 - val_loss: 0.1199 - val_accuracy: 0.9685\n",
      "Epoch 22/30\n",
      "54000/54000 [==============================] - 9s 160us/sample - loss: 0.1195 - accuracy: 0.9682 - val_loss: 0.1258 - val_accuracy: 0.9682\n",
      "Epoch 23/30\n",
      "54000/54000 [==============================] - 9s 166us/sample - loss: 0.1161 - accuracy: 0.9692 - val_loss: 0.1165 - val_accuracy: 0.9702\n",
      "Epoch 24/30\n",
      "54000/54000 [==============================] - 9s 165us/sample - loss: 0.1164 - accuracy: 0.9687 - val_loss: 0.1267 - val_accuracy: 0.9677\n",
      "Epoch 25/30\n",
      "54000/54000 [==============================] - 9s 162us/sample - loss: 0.1152 - accuracy: 0.9701 - val_loss: 0.1239 - val_accuracy: 0.9683\n",
      "Epoch 26/30\n",
      "54000/54000 [==============================] - 9s 162us/sample - loss: 0.1095 - accuracy: 0.9712 - val_loss: 0.1282 - val_accuracy: 0.9658\n",
      "Epoch 27/30\n",
      "54000/54000 [==============================] - 8s 155us/sample - loss: 0.1101 - accuracy: 0.9710 - val_loss: 0.1154 - val_accuracy: 0.9685\n",
      "Epoch 28/30\n",
      "54000/54000 [==============================] - 8s 153us/sample - loss: 0.1083 - accuracy: 0.9717 - val_loss: 0.1145 - val_accuracy: 0.9702\n",
      "Epoch 29/30\n",
      "54000/54000 [==============================] - 8s 145us/sample - loss: 0.1024 - accuracy: 0.9730 - val_loss: 0.1257 - val_accuracy: 0.9680\n",
      "Epoch 30/30\n",
      "54000/54000 [==============================] - 8s 149us/sample - loss: 0.1046 - accuracy: 0.9726 - val_loss: 0.1196 - val_accuracy: 0.9688\n"
     ]
    }
   ],
   "source": [
    "# sgd stands for stochastic gradient descent.\n",
    "# categorical_crossentropy is a common loss function used for categorical classification.\n",
    "# accuracy is the percent of predictions that were correct.\n",
    "medium_model.compile(optimizer=\"nadam\", loss='kullback_leibler_divergence', metrics=['accuracy'])\n",
    "\n",
    "# The network will make predictions for 128 flattened images per correction.\n",
    "# It will make a prediction on each item in the training set 5 times (5 epochs)\n",
    "# And 10% of the data will be used as validation data.\n",
    "history = medium_model.fit(training_data, training_labels, batch_size=128, epochs=30, verbose=True, validation_split=.1)"
   ]
  },
  {
   "cell_type": "markdown",
   "metadata": {},
   "source": [
    "Evaluating our model"
   ]
  },
  {
   "cell_type": "code",
   "execution_count": 8,
   "metadata": {},
   "outputs": [
    {
     "name": "stdout",
     "output_type": "stream",
     "text": [
      "10000/10000 [==============================] - 2s 217us/sample - loss: 0.1545 - accuracy: 0.9646\n"
     ]
    },
    {
     "data": {
      "image/png": "[encoded data removed]",
      "text/plain": [
       "<Figure size 432x288 with 1 Axes>"
      ]
     },
     "metadata": {
      "needs_background": "light"
     },
     "output_type": "display_data"
    },
    {
     "data": {
      "image/png": "[encoded data removed]",
      "text/plain": [
       "<Figure size 432x288 with 1 Axes>"
      ]
     },
     "metadata": {
      "needs_background": "light"
     },
     "output_type": "display_data"
    },
    {
     "name": "stdout",
     "output_type": "stream",
     "text": [
      "Test loss: 0.155\n",
      "Test accuracy: 0.965\n",
      "[0.5517778, 0.85227776, 0.9008704, 0.9198148, 0.9308148, 0.9370926, 0.94214815, 0.9456111, 0.94898146, 0.9521111, 0.954037, 0.9570185, 0.957963, 0.9598333, 0.9609445, 0.9623704, 0.96316665, 0.9648333, 0.9658889, 0.966, 0.9679074, 0.9682222, 0.9691852, 0.9687222, 0.9701296, 0.97124076, 0.97096294, 0.9716667, 0.973, 0.97264814]\n",
      "[0.8936667, 0.9385, 0.94166666, 0.94766665, 0.95383334, 0.95416665, 0.956, 0.95933336, 0.9608333, 0.96183336, 0.96466666, 0.96183336, 0.964, 0.96533334, 0.96683335, 0.9673333, 0.9683333, 0.9686667, 0.9691667, 0.9685, 0.9685, 0.96816665, 0.9701667, 0.9676667, 0.9683333, 0.9658333, 0.9685, 0.9701667, 0.968, 0.9688333]\n"
     ]
    }
   ],
   "source": [
    "loss, accuracy = medium_model.evaluate(test_data, test_labels, verbose=True)\n",
    "\n",
    "plt.plot(history.history['accuracy'])\n",
    "plt.plot(history.history['val_accuracy'])\n",
    "plt.title('model accuracy')\n",
    "plt.ylabel('accuracy')\n",
    "plt.xlabel('epoch')\n",
    "plt.legend(['training', 'validation'], loc='best')\n",
    "\n",
    "plt.show()\n",
    "\n",
    "plt.plot(history.history['loss'])\n",
    "plt.plot(history.history['val_loss'])\n",
    "plt.title('model loss')\n",
    "plt.ylabel('loss')\n",
    "plt.xlabel('epoch')\n",
    "plt.legend(['training', 'validation'], loc='best')\n",
    "\n",
    "plt.show()\n",
    "\n",
    "print(f'Test loss: {loss:.3}')\n",
    "print(f'Test accuracy: {accuracy:.3}')\n",
    "print(history.history['accuracy'])\n",
    "print(history.history['val_accuracy'])"
   ]
  },
  {
   "cell_type": "markdown",
   "metadata": {},
   "source": [
    "Look at specific results"
   ]
  },
  {
   "cell_type": "code",
   "execution_count": 9,
   "metadata": {},
   "outputs": [],
   "source": [
    "from numpy import argmax\n",
    "\n",
    "# Predicting once, then we can use these repeatedly in the next cell without recomputing the predictions.\n",
    "predictions = medium_model.predict(test_data)\n",
    "\n",
    "# For pagination & style in second cell\n",
    "page = 0\n",
    "fontdict = {'color': 'black'}"
   ]
  },
  {
   "cell_type": "code",
   "execution_count": 10,
   "metadata": {},
   "outputs": [
    {
     "data": {
      "image/png": "[encoded data removed]",
      "text/plain": [
       "<Figure size 432x288 with 16 Axes>"
      ]
     },
     "metadata": {
      "needs_background": "light"
     },
     "output_type": "display_data"
    }
   ],
   "source": [
    "# Repeatedly running this cell will page through the predictions\n",
    "for i in range(16):\n",
    "    ax = plt.subplot(4, 4, i+1)\n",
    "    ax.axis('off')\n",
    "    plt.imshow(test_images[i + page], cmap='Greys')\n",
    "    prediction = argmax(predictions[i + page])\n",
    "    true_value = argmax(test_labels[i + page])\n",
    "\n",
    "    fontdict['color'] = 'black' if prediction == true_value else 'red'\n",
    "    plt.title(\"{}, {}\".format(prediction, true_value), fontdict=fontdict)\n",
    "\n",
    "page += 16\n",
    "plt.tight_layout()\n",
    "plt.show()"
   ]
  },
  {
   "cell_type": "code",
   "execution_count": null,
   "metadata": {},
   "outputs": [],
   "source": []
  }
 ],
 "metadata": {
  "kernelspec": {
   "display_name": "Python 3",
   "language": "python",
   "name": "python3"
  },
  "language_info": {
   "codemirror_mode": {
    "name": "ipython",
    "version": 3
   },
   "file_extension": ".py",
   "mimetype": "text/x-python",
   "name": "python",
   "nbconvert_exporter": "python",
   "pygments_lexer": "ipython3",
   "version": "3.7.7"
  }
 },
 "nbformat": 4,
 "nbformat_minor": 4
}
